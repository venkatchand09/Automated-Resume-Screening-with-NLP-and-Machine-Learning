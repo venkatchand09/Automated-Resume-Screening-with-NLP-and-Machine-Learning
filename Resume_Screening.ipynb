{
  "nbformat": 4,
  "nbformat_minor": 0,
  "metadata": {
    "colab": {
      "provenance": []
    },
    "kernelspec": {
      "name": "python3",
      "display_name": "Python 3"
    },
    "language_info": {
      "name": "python"
    }
  },
  "cells": [
    {
      "cell_type": "code",
      "execution_count": null,
      "metadata": {
        "id": "bDUMg7aiCQ-F"
      },
      "outputs": [],
      "source": [
        "import numpy as np\n",
        "import pandas as pd\n",
        "import matplotlib.pyplot as plt\n",
        "import seaborn as sns"
      ]
    },
    {
      "cell_type": "code",
      "source": [
        "df = pd.read_csv('/content/UpdatedResumeDataSet.csv')"
      ],
      "metadata": {
        "id": "QpIt2K8fCf-4"
      },
      "execution_count": null,
      "outputs": []
    },
    {
      "cell_type": "code",
      "source": [
        "df.head(10)"
      ],
      "metadata": {
        "colab": {
          "base_uri": "https://localhost:8080/",
          "height": 363
        },
        "id": "i1b_8PgID57H",
        "outputId": "54d82cd2-ec7b-4ee3-9ae1-7a1347c9e5ab"
      },
      "execution_count": null,
      "outputs": [
        {
          "output_type": "execute_result",
          "data": {
            "text/plain": [
              "       Category                                             Resume\n",
              "0  Data Science  Skills * Programming Languages: Python (pandas...\n",
              "1  Data Science  Education Details \\r\\nMay 2013 to May 2017 B.E...\n",
              "2  Data Science  Areas of Interest Deep Learning, Control Syste...\n",
              "3  Data Science  Skills â¢ R â¢ Python â¢ SAP HANA â¢ Table...\n",
              "4  Data Science  Education Details \\r\\n MCA   YMCAUST,  Faridab...\n",
              "5  Data Science  SKILLS C Basics, IOT, Python, MATLAB, Data Sci...\n",
              "6  Data Science  Skills â¢ Python â¢ Tableau â¢ Data Visuali...\n",
              "7  Data Science  Education Details \\r\\n B.Tech   Rayat and Bahr...\n",
              "8  Data Science  Personal Skills â¢ Ability to quickly grasp t...\n",
              "9  Data Science  Expertise â Data and Quantitative Analysis â..."
            ],
            "text/html": [
              "\n",
              "  <div id=\"df-9af11abb-9341-4ea1-ae6f-51e6e6f70118\" class=\"colab-df-container\">\n",
              "    <div>\n",
              "<style scoped>\n",
              "    .dataframe tbody tr th:only-of-type {\n",
              "        vertical-align: middle;\n",
              "    }\n",
              "\n",
              "    .dataframe tbody tr th {\n",
              "        vertical-align: top;\n",
              "    }\n",
              "\n",
              "    .dataframe thead th {\n",
              "        text-align: right;\n",
              "    }\n",
              "</style>\n",
              "<table border=\"1\" class=\"dataframe\">\n",
              "  <thead>\n",
              "    <tr style=\"text-align: right;\">\n",
              "      <th></th>\n",
              "      <th>Category</th>\n",
              "      <th>Resume</th>\n",
              "    </tr>\n",
              "  </thead>\n",
              "  <tbody>\n",
              "    <tr>\n",
              "      <th>0</th>\n",
              "      <td>Data Science</td>\n",
              "      <td>Skills * Programming Languages: Python (pandas...</td>\n",
              "    </tr>\n",
              "    <tr>\n",
              "      <th>1</th>\n",
              "      <td>Data Science</td>\n",
              "      <td>Education Details \\r\\nMay 2013 to May 2017 B.E...</td>\n",
              "    </tr>\n",
              "    <tr>\n",
              "      <th>2</th>\n",
              "      <td>Data Science</td>\n",
              "      <td>Areas of Interest Deep Learning, Control Syste...</td>\n",
              "    </tr>\n",
              "    <tr>\n",
              "      <th>3</th>\n",
              "      <td>Data Science</td>\n",
              "      <td>Skills â¢ R â¢ Python â¢ SAP HANA â¢ Table...</td>\n",
              "    </tr>\n",
              "    <tr>\n",
              "      <th>4</th>\n",
              "      <td>Data Science</td>\n",
              "      <td>Education Details \\r\\n MCA   YMCAUST,  Faridab...</td>\n",
              "    </tr>\n",
              "    <tr>\n",
              "      <th>5</th>\n",
              "      <td>Data Science</td>\n",
              "      <td>SKILLS C Basics, IOT, Python, MATLAB, Data Sci...</td>\n",
              "    </tr>\n",
              "    <tr>\n",
              "      <th>6</th>\n",
              "      <td>Data Science</td>\n",
              "      <td>Skills â¢ Python â¢ Tableau â¢ Data Visuali...</td>\n",
              "    </tr>\n",
              "    <tr>\n",
              "      <th>7</th>\n",
              "      <td>Data Science</td>\n",
              "      <td>Education Details \\r\\n B.Tech   Rayat and Bahr...</td>\n",
              "    </tr>\n",
              "    <tr>\n",
              "      <th>8</th>\n",
              "      <td>Data Science</td>\n",
              "      <td>Personal Skills â¢ Ability to quickly grasp t...</td>\n",
              "    </tr>\n",
              "    <tr>\n",
              "      <th>9</th>\n",
              "      <td>Data Science</td>\n",
              "      <td>Expertise â Data and Quantitative Analysis â...</td>\n",
              "    </tr>\n",
              "  </tbody>\n",
              "</table>\n",
              "</div>\n",
              "    <div class=\"colab-df-buttons\">\n",
              "\n",
              "  <div class=\"colab-df-container\">\n",
              "    <button class=\"colab-df-convert\" onclick=\"convertToInteractive('df-9af11abb-9341-4ea1-ae6f-51e6e6f70118')\"\n",
              "            title=\"Convert this dataframe to an interactive table.\"\n",
              "            style=\"display:none;\">\n",
              "\n",
              "  <svg xmlns=\"http://www.w3.org/2000/svg\" height=\"24px\" viewBox=\"0 -960 960 960\">\n",
              "    <path d=\"M120-120v-720h720v720H120Zm60-500h600v-160H180v160Zm220 220h160v-160H400v160Zm0 220h160v-160H400v160ZM180-400h160v-160H180v160Zm440 0h160v-160H620v160ZM180-180h160v-160H180v160Zm440 0h160v-160H620v160Z\"/>\n",
              "  </svg>\n",
              "    </button>\n",
              "\n",
              "  <style>\n",
              "    .colab-df-container {\n",
              "      display:flex;\n",
              "      gap: 12px;\n",
              "    }\n",
              "\n",
              "    .colab-df-convert {\n",
              "      background-color: #E8F0FE;\n",
              "      border: none;\n",
              "      border-radius: 50%;\n",
              "      cursor: pointer;\n",
              "      display: none;\n",
              "      fill: #1967D2;\n",
              "      height: 32px;\n",
              "      padding: 0 0 0 0;\n",
              "      width: 32px;\n",
              "    }\n",
              "\n",
              "    .colab-df-convert:hover {\n",
              "      background-color: #E2EBFA;\n",
              "      box-shadow: 0px 1px 2px rgba(60, 64, 67, 0.3), 0px 1px 3px 1px rgba(60, 64, 67, 0.15);\n",
              "      fill: #174EA6;\n",
              "    }\n",
              "\n",
              "    .colab-df-buttons div {\n",
              "      margin-bottom: 4px;\n",
              "    }\n",
              "\n",
              "    [theme=dark] .colab-df-convert {\n",
              "      background-color: #3B4455;\n",
              "      fill: #D2E3FC;\n",
              "    }\n",
              "\n",
              "    [theme=dark] .colab-df-convert:hover {\n",
              "      background-color: #434B5C;\n",
              "      box-shadow: 0px 1px 3px 1px rgba(0, 0, 0, 0.15);\n",
              "      filter: drop-shadow(0px 1px 2px rgba(0, 0, 0, 0.3));\n",
              "      fill: #FFFFFF;\n",
              "    }\n",
              "  </style>\n",
              "\n",
              "    <script>\n",
              "      const buttonEl =\n",
              "        document.querySelector('#df-9af11abb-9341-4ea1-ae6f-51e6e6f70118 button.colab-df-convert');\n",
              "      buttonEl.style.display =\n",
              "        google.colab.kernel.accessAllowed ? 'block' : 'none';\n",
              "\n",
              "      async function convertToInteractive(key) {\n",
              "        const element = document.querySelector('#df-9af11abb-9341-4ea1-ae6f-51e6e6f70118');\n",
              "        const dataTable =\n",
              "          await google.colab.kernel.invokeFunction('convertToInteractive',\n",
              "                                                    [key], {});\n",
              "        if (!dataTable) return;\n",
              "\n",
              "        const docLinkHtml = 'Like what you see? Visit the ' +\n",
              "          '<a target=\"_blank\" href=https://colab.research.google.com/notebooks/data_table.ipynb>data table notebook</a>'\n",
              "          + ' to learn more about interactive tables.';\n",
              "        element.innerHTML = '';\n",
              "        dataTable['output_type'] = 'display_data';\n",
              "        await google.colab.output.renderOutput(dataTable, element);\n",
              "        const docLink = document.createElement('div');\n",
              "        docLink.innerHTML = docLinkHtml;\n",
              "        element.appendChild(docLink);\n",
              "      }\n",
              "    </script>\n",
              "  </div>\n",
              "\n",
              "\n",
              "<div id=\"df-3d75a043-ed38-40ae-8bf7-c58b84c555e6\">\n",
              "  <button class=\"colab-df-quickchart\" onclick=\"quickchart('df-3d75a043-ed38-40ae-8bf7-c58b84c555e6')\"\n",
              "            title=\"Suggest charts\"\n",
              "            style=\"display:none;\">\n",
              "\n",
              "<svg xmlns=\"http://www.w3.org/2000/svg\" height=\"24px\"viewBox=\"0 0 24 24\"\n",
              "     width=\"24px\">\n",
              "    <g>\n",
              "        <path d=\"M19 3H5c-1.1 0-2 .9-2 2v14c0 1.1.9 2 2 2h14c1.1 0 2-.9 2-2V5c0-1.1-.9-2-2-2zM9 17H7v-7h2v7zm4 0h-2V7h2v10zm4 0h-2v-4h2v4z\"/>\n",
              "    </g>\n",
              "</svg>\n",
              "  </button>\n",
              "\n",
              "<style>\n",
              "  .colab-df-quickchart {\n",
              "      --bg-color: #E8F0FE;\n",
              "      --fill-color: #1967D2;\n",
              "      --hover-bg-color: #E2EBFA;\n",
              "      --hover-fill-color: #174EA6;\n",
              "      --disabled-fill-color: #AAA;\n",
              "      --disabled-bg-color: #DDD;\n",
              "  }\n",
              "\n",
              "  [theme=dark] .colab-df-quickchart {\n",
              "      --bg-color: #3B4455;\n",
              "      --fill-color: #D2E3FC;\n",
              "      --hover-bg-color: #434B5C;\n",
              "      --hover-fill-color: #FFFFFF;\n",
              "      --disabled-bg-color: #3B4455;\n",
              "      --disabled-fill-color: #666;\n",
              "  }\n",
              "\n",
              "  .colab-df-quickchart {\n",
              "    background-color: var(--bg-color);\n",
              "    border: none;\n",
              "    border-radius: 50%;\n",
              "    cursor: pointer;\n",
              "    display: none;\n",
              "    fill: var(--fill-color);\n",
              "    height: 32px;\n",
              "    padding: 0;\n",
              "    width: 32px;\n",
              "  }\n",
              "\n",
              "  .colab-df-quickchart:hover {\n",
              "    background-color: var(--hover-bg-color);\n",
              "    box-shadow: 0 1px 2px rgba(60, 64, 67, 0.3), 0 1px 3px 1px rgba(60, 64, 67, 0.15);\n",
              "    fill: var(--button-hover-fill-color);\n",
              "  }\n",
              "\n",
              "  .colab-df-quickchart-complete:disabled,\n",
              "  .colab-df-quickchart-complete:disabled:hover {\n",
              "    background-color: var(--disabled-bg-color);\n",
              "    fill: var(--disabled-fill-color);\n",
              "    box-shadow: none;\n",
              "  }\n",
              "\n",
              "  .colab-df-spinner {\n",
              "    border: 2px solid var(--fill-color);\n",
              "    border-color: transparent;\n",
              "    border-bottom-color: var(--fill-color);\n",
              "    animation:\n",
              "      spin 1s steps(1) infinite;\n",
              "  }\n",
              "\n",
              "  @keyframes spin {\n",
              "    0% {\n",
              "      border-color: transparent;\n",
              "      border-bottom-color: var(--fill-color);\n",
              "      border-left-color: var(--fill-color);\n",
              "    }\n",
              "    20% {\n",
              "      border-color: transparent;\n",
              "      border-left-color: var(--fill-color);\n",
              "      border-top-color: var(--fill-color);\n",
              "    }\n",
              "    30% {\n",
              "      border-color: transparent;\n",
              "      border-left-color: var(--fill-color);\n",
              "      border-top-color: var(--fill-color);\n",
              "      border-right-color: var(--fill-color);\n",
              "    }\n",
              "    40% {\n",
              "      border-color: transparent;\n",
              "      border-right-color: var(--fill-color);\n",
              "      border-top-color: var(--fill-color);\n",
              "    }\n",
              "    60% {\n",
              "      border-color: transparent;\n",
              "      border-right-color: var(--fill-color);\n",
              "    }\n",
              "    80% {\n",
              "      border-color: transparent;\n",
              "      border-right-color: var(--fill-color);\n",
              "      border-bottom-color: var(--fill-color);\n",
              "    }\n",
              "    90% {\n",
              "      border-color: transparent;\n",
              "      border-bottom-color: var(--fill-color);\n",
              "    }\n",
              "  }\n",
              "</style>\n",
              "\n",
              "  <script>\n",
              "    async function quickchart(key) {\n",
              "      const quickchartButtonEl =\n",
              "        document.querySelector('#' + key + ' button');\n",
              "      quickchartButtonEl.disabled = true;  // To prevent multiple clicks.\n",
              "      quickchartButtonEl.classList.add('colab-df-spinner');\n",
              "      try {\n",
              "        const charts = await google.colab.kernel.invokeFunction(\n",
              "            'suggestCharts', [key], {});\n",
              "      } catch (error) {\n",
              "        console.error('Error during call to suggestCharts:', error);\n",
              "      }\n",
              "      quickchartButtonEl.classList.remove('colab-df-spinner');\n",
              "      quickchartButtonEl.classList.add('colab-df-quickchart-complete');\n",
              "    }\n",
              "    (() => {\n",
              "      let quickchartButtonEl =\n",
              "        document.querySelector('#df-3d75a043-ed38-40ae-8bf7-c58b84c555e6 button');\n",
              "      quickchartButtonEl.style.display =\n",
              "        google.colab.kernel.accessAllowed ? 'block' : 'none';\n",
              "    })();\n",
              "  </script>\n",
              "</div>\n",
              "\n",
              "    </div>\n",
              "  </div>\n"
            ],
            "application/vnd.google.colaboratory.intrinsic+json": {
              "type": "dataframe",
              "variable_name": "df",
              "summary": "{\n  \"name\": \"df\",\n  \"rows\": 962,\n  \"fields\": [\n    {\n      \"column\": \"Category\",\n      \"properties\": {\n        \"dtype\": \"category\",\n        \"num_unique_values\": 25,\n        \"samples\": [\n          \"Civil Engineer\",\n          \"DevOps Engineer\",\n          \"Data Science\"\n        ],\n        \"semantic_type\": \"\",\n        \"description\": \"\"\n      }\n    },\n    {\n      \"column\": \"Resume\",\n      \"properties\": {\n        \"dtype\": \"category\",\n        \"num_unique_values\": 166,\n        \"samples\": [\n          \"KEY COMPETENCIES \\u00e2\\u009c\\u00b6Multi - Operations Management\\u00e2\\u009c\\u00b6People Management \\u00e2\\u009c\\u00b6Customer Services - Emails \\u00e2\\u009c\\u00b6 MIS \\u00e2\\u009c\\u00b6Vendor & Client Services Management\\u00e2\\u009c\\u00b6Cross Functional Coordination\\u00e2\\u009c\\u00b6Banking & Financial Services\\u00e2\\u009c\\u00b6 Transaction Monitoring * ATM Operations \\u00e2\\u009c\\u00b6 & Prepaid Card Operations (Pre-Issuance & Post-Issuance) \\u00e2\\u009c\\u00b6 POS Operations * JOB PROFILE & SKILLS: \\u00e2\\u0080\\u00a2 An effective communicator with excellent relationship building & interpersonal skills. Strong analytical, problem solving & organizational abilities. \\u00e2\\u0080\\u00a2 Extensive experience in managing operations with demonstrated leadership qualities & organisational skills during the tenure. \\u00e2\\u0080\\u00a2 Managing customer centric operations & ensuring customer satisfaction by achieving service quality norms. \\u00e2\\u0080\\u00a2 Analyzing of all operational problems, customer complaints and take preventive and corrective actions to resolve the same. \\u00e2\\u0080\\u00a2 Receive and respond to Key customer inquiries in an effective manner and provide relevant and timely information. \\u00e2\\u0080\\u00a2 Deft in steering banking back-end operations, analyzing risks and managing delinquencies with dexterity across applying techniques for maximizing recoveries and minimizing credit losses. \\u00e2\\u0080\\u00a2 Analyzed & identified training needs of the team members and developing, organizing and conducting training programs and manage bottom quartile team to improve their performance. \\u00e2\\u0080\\u00a2 Preparing and maintaining daily MIS reports to evaluate the performance and efficiency of the process relate to various verticals. \\u00e2\\u0080\\u00a2 Measuring the performance of the processes in terms of efficiency and effectiveness matrix and ensuring adherence to SLA. \\u00e2\\u0080\\u00a2 Major Activities Define processes for Field Services were monitored and necessary checks were executed and controlled. Also measured Vendor SLA by analyzing the TAT of vendors & the Client SLA provided to us. \\u00e2\\u0080\\u00a2 As per company procedures, handling & ensuring vendor's payment issues to be sorted out &payments are processed on quarterly basis. \\u00e2\\u0080\\u00a2 Appropriately plan and execute each skill of operations in accordance with the department's policies and procedures. \\u00e2\\u0080\\u00a2 Manage relationships with business team, software development team and other services to achieve project objectives. Different software Worked till now: - a. CTL prime - Axis Bank Credit Cards b. Insight - For POS Machine technical operations for Amex (MID & TID Generation- ATOS (Venture Infotek) c. Ticket Management System - TATA Communications Private Services Ltd (ATM - NOC Operations) d. Branch Portal (Yalamanchili Software Exports Ltd) - Prepaid Cards (SBI Bank & Zaggle Prepaid Oceans Services Ltd) Zaggle Prepaid Ocean Services Pvt Ltd Oct, 2017 to Till Date Designation: Manager - Operations (Payment Industry - Prepaid Cards - INR) Education Details \\r\\n  Commerce Mumbai, Maharashtra Mumbai University\\r\\nOperations Manager \\r\\n\\r\\nService Manager - Operations (Payment Industry - Prepaid Cards - INR & FTC)\\r\\nSkill Details \\r\\nOPERATIONS- Exprience - 73 months\\r\\nSATISFACTION- Exprience - 48 months\\r\\nTRAINING- Exprience - 24 months\\r\\nNOC- Exprience - 23 months\\r\\nPOINT OF SALE- Exprience - 20 monthsCompany Details \\r\\ncompany - Zaggle Prepaid Ocean Services Pvt Ltd\\r\\ndescription - Card Operations\\r\\ncompany - Yalamanchili Software Exports Ltd\\r\\ndescription - 24*7 Operations Pvt Ltd) Dec 2015 to Feb 2017\\r\\n\\r\\nDesignation: Service Manager - Operations (Payment Industry - Prepaid Cards - INR & FTC)\\r\\n\\r\\nKey Contributions: \\u00e2\\u0080\\u00a2 A result-oriented business professional in planning, executing& managing processes, improving efficiency of operations, team building and detailing process information to determine effective result into operations.\\r\\n\\u00e2\\u0080\\u00a2 Ensuring PINs generation (SLA) is maintained and chargeback cases are raised in perfect timeframe.\\r\\n\\u00e2\\u0080\\u00a2 Managing email customer services properly and ensuring the emails are replied properly. Also, ensuring transaction monitoring is properly managed 24/7.\\r\\n\\u00e2\\u0080\\u00a2 Assisting Bankers (SBI & Associated Banks) for their BCP plans by getting executed in the system with the help of DR-PR plans & vice versa or any other business requirements.\\r\\n\\u00e2\\u0080\\u00a2 Expertise in maintaining highest level of quality in operations; ensuring adherence to all the quality parameters and procedures as per the stringent norms.\\r\\n\\u00e2\\u0080\\u00a2 Lead, manage and supervise the execution of external audit engagements and responsible for presenting the findings & developing a quality reports to the senior Management and Clients.\\r\\n\\u00e2\\u0080\\u00a2 Coach/mentor (20) team members to perform at a higher level by giving opportunities, providing timely continuous feedback and working with staff to improve their communication, time management, decision making, organization, and analytical skills.\\r\\n\\u00e2\\u0080\\u00a2 Providing the solutions and services to the client in their own premises with aforesaid count of team members.\\r\\n\\u00e2\\u0080\\u00a2 Also ensuring end to end process of PR & DR as per client requirements (PR- DR & DR -PR) by interacting with internal & external stakeholders.\\r\\n\\u00e2\\u0080\\u00a2 Determining process gaps and designing & conducting training programs to enhance operational efficiency and retain talent by providing optimum opportunities for personal and professional growth.\\r\\ncompany - Credit Cards\\r\\ndescription - Ensured highest standard of customer satisfaction and quality service; developing new policies and procedures to improve based on customer feedback and resolving customer queries via correspondence, inbound calls & email channels with the strength of (12-16) Team members.\\r\\ncompany - AGS Transact Technologies Limited\\r\\ndescription - Key Contributions: Lead - SPOC to Banks\\r\\ncompany - TATA Communications Payment Solutions Ltd\\r\\ndescription - To make ATMs operational within TAT by analyzing the issue is technical or non-technical and also by interacting with internal & external stakeholders.\\r\\ncompany - Vertex Customer Solutions India Private Ltd\\r\\ndescription - Key Contributions: \\u00e2\\u0080\\u00a2 Build positive working relationship with all team members and clients by keeping Management informed   of KYC document collection & con-current audit progress, responding timely to Management inquiries, understanding the business and conducting self professionally.\\r\\ncompany - Financial Inclusion Network & Operations Limited\\r\\ndescription - Key Contributions: POS-Operations \\u00e2\\u0080\\u00a2 Cascading the adherence of process is strictly followed by team members & training them to reduce the downtime.\\r\\n\\u00e2\\u0080\\u00a2 Managing Stock of EDC Terminals \\u00e2\\u0080\\u00a2 Managing Deployments of terminals through Multiple teams \\u00e2\\u0080\\u00a2 Would have worked with multiple terminal make & model \\u00e2\\u0080\\u00a2 Managing Inward, Outward & QC of applications installed in the POS machines.\\r\\ncompany - Venture Infotek Private Ltd\\r\\ndescription - Key Contributions: POS-Operations\\r\\ncompany - Axis Bank Ltd - Customer Services\\r\\ndescription - Aug 2006 to Oct 2009 (Ma-Foi&I- smart)\\r\\n\\r\\nDesignation: Team Leader/Executive - Emails, Phone Banking & Correspondence Unit (Snail Mails)\",\n          \"Skill Set: Hadoop, Map Reduce, HDFS, Hive, Sqoop, java. Duration: 2016 to 2017. Role: Hadoop Developer Rplus offers an quick, simple and powerful cloud based Solution, Demand Sense to accurately predict demand for your product in all your markets which Combines Enterprise and External Data to predict demand more accurately through Uses Social Conversation and Sentiments to derive demand and Identifies significant drivers of sale out of hordes of factors that Selects the best suited model out of multiple forecasting models for each product. Responsibilities: \\u00e2\\u0080\\u00a2 Involved in deploying the product for customers, gathering requirements and algorithm optimization at backend of the product. \\u00e2\\u0080\\u00a2 Load and transform Large Datasets of structured semi structured. \\u00e2\\u0080\\u00a2 Responsible to manage data coming from different sources and application \\u00e2\\u0080\\u00a2 Supported Map Reduce Programs those are running on the cluster \\u00e2\\u0080\\u00a2 Involved in creating Hive tables, loading with data and writing hive queries which will run internally in map reduce way.Education Details \\r\\n\\r\\nHadoop Developer \\r\\n\\r\\nHadoop Developer - Braindatawire\\r\\nSkill Details \\r\\nAPACHE HADOOP HDFS- Exprience - 49 months\\r\\nAPACHE HADOOP SQOOP- Exprience - 49 months\\r\\nHadoop- Exprience - 49 months\\r\\nHADOOP- Exprience - 49 months\\r\\nHADOOP DISTRIBUTED FILE SYSTEM- Exprience - 49 monthsCompany Details \\r\\ncompany - Braindatawire\\r\\ndescription - Technical Skills:\\r\\n\\u00e2\\u0080\\u00a2   Programming: Core Java, Map Reduce, Scala\\r\\n\\u00e2\\u0080\\u00a2   Hadoop Tools: HDFS, Spark, Map Reduce, Sqoop, Hive, Hbase\\r\\n\\u00e2\\u0080\\u00a2   Database: MySQL, Oracle\\r\\n\\u00e2\\u0080\\u00a2   Scripting: Shell Scripting\\r\\n\\u00e2\\u0080\\u00a2   IDE: Eclipse\\r\\n\\u00e2\\u0080\\u00a2   Operating Systems: Linux (CentOS), Windows\\r\\n\\u00e2\\u0080\\u00a2   Source Control: Git (Github)\",\n          \"IT Skills: Area Exposure Modeling Tool: Bizagi, MS Visio Prototyping Tool: Indigo Studio. Documentation: MS Office (MS Word, MS Excel, MS Power Point) Testing Proficiency: Smoke, Sanity, Integration, Functional, Acceptance and UI Methodology implemented: Waterfall, Agile (Scrum) Database: SQL Testing Tool: HPQC Business Exposure Education Details \\r\\n Bachelor Of Computer Engineering Computer Engineering Mumbai, Maharashtra Thadomal Shahani Engineering college\\r\\n Diploma Computer Engineering Ulhasnagar, Maharashtra Institute of Technology\\r\\n Secondary School Certificate  Ulhasnagar, Maharashtra New English High School\\r\\nSenior Business Analyst - RPA \\r\\n\\r\\nSenior Business Analyst - RPA - Hexaware Technologies\\r\\nSkill Details \\r\\nDOCUMENTATION- Exprience - 47 months\\r\\nTESTING- Exprience - 29 months\\r\\nINTEGRATION- Exprience - 25 months\\r\\nINTEGRATOR- Exprience - 25 months\\r\\nPROTOTYPE- Exprience - 13 monthsCompany Details \\r\\ncompany - Hexaware Technologies\\r\\ndescription - Working as a RPA Business Analyst\\r\\ncompany - BBH- Brown Brothers Harriman & Co\\r\\ndescription - is a private bank that provides commercial banking, investment management, brokerage, and trust services to private companies and individuals. It also performs merger advisory, foreign exchange, custody services, commercial banking, and corporate financing services.\\r\\n\\r\\nResponsibilities: \\u00e2\\u0080\\u00a2 Performed Automation Assessment of various Processes and identified processes which can be candidates of RPA.\\r\\n\\u00e2\\u0080\\u00a2 Conducting Assessment that involves an initial Understanding of the Existing System, their technology, processes, Usage of the tools, Feasibility of tool with automation tool along with automation ROI analysis.\\r\\n\\u00e2\\u0080\\u00a2 Preparing the Automation Potential Sheet which describes the steps in the process, the volume and frequency of the transaction, the AHT taken by SME to perform the process and depending on the steps that could be automated, Automation potential and the manual efforts that will be saved are calculated.\\r\\nCalculating the complexity of the Process which is considered for automation and depending on all these factors Number of Bots and Number of Automation tool Licenses are determined.\\r\\n\\u00e2\\u0080\\u00a2 Implementing a Proof of Concept (POC) to Validate Feasibility by executing the selected critical use cases for conducting a POC which will helps to identify financial and operational benefits and provide recommendations regarding the actual need for complete automation.\\r\\n\\u00e2\\u0080\\u00a2 Gathering business requirements by conducting detailed interviews with business users, stakeholders, and Subject Matter Experts (SME's) \\u00e2\\u0080\\u00a2 Preparing Business Requirement Document and then converted Business requirements into Functional Requirements Specification.\\r\\n \\u00e2\\u0080\\u00a2 Constructing prototype early toward a design acceptable to the customer and feasible.\\r\\n\\u00e2\\u0080\\u00a2 Assisting in designing test plans, test scenarios and test cases for integration, regression, and user acceptance testing (UAT) to improve the overall quality of the Automation.\\r\\n\\u00e2\\u0080\\u00a2 Participating regularly in Walkthroughs and Review meetings with Project Manager, QA Engineers, and Development team.\\r\\n\\u00e2\\u0080\\u00a2 Regularly interacting with offshore and onshore development teams.\\r\\ncompany - FADV - First Advantage\\r\\ndescription - is a criminal background check company that delivers global solutions ranging from employment screenings to background checks.\\r\\nThe following are the processes which were covered:\\r\\nEmail Process, Research Process, Review Process.\\r\\n\\r\\nResponsibilities: \\u00e2\\u0080\\u00a2 Requirement Gathering through conducting Interviews & Brainstorming sessions with stakeholders \\u00e2\\u0080\\u00a2 To develop decision models and execute those rules as per the use case specifications.\\r\\n\\u00e2\\u0080\\u00a2 To Test/validate the decision models against document test data.\\r\\n\\u00e2\\u0080\\u00a2 To maintain and enhance the decision models for changes in regulations as per use case specifications.\\r\\n\\u00e2\\u0080\\u00a2 Responsible for performing the business research that will make a business growth.\\r\\n\\u00e2\\u0080\\u00a2 Developing a clear understanding of existing business functions and processes.\\r\\n\\u00e2\\u0080\\u00a2 Effectively communicate with the onsite clients for the queries, suggestions, and update.\\r\\n\\u00e2\\u0080\\u00a2 Giving suggestions to enhance the current processes.\\r\\n\\u00e2\\u0080\\u00a2 Identifying areas for process improvement.\\r\\n\\u00e2\\u0080\\u00a2 Flagging up potential problems at an early stage.\\r\\n\\u00e2\\u0080\\u00a2 Preparing PowerPoint presentations and documents for business meetings.\\r\\n\\u00e2\\u0080\\u00a2 Using any information gathered to write up detailed reports.\\r\\n\\u00e2\\u0080\\u00a2 Highlighting risks and issues that could impact project delivery.\\r\\n\\u00e2\\u0080\\u00a2 Able to work accurately.\\r\\n\\u00e2\\u0080\\u00a2 To develop and maintain documentation for internal team training and client end user operations.\\r\\n\\u00e2\\u0080\\u00a2 To work efficiently with team members and across teams.\\r\\n\\u00e2\\u0080\\u00a2 To mentor and train junior team members.\\r\\ncompany - Clinical Testing, Lab Work and Diagnostic Testing\\r\\ndescription - IQVIA provides services to its customers this includes: Clinical Testing, Lab Work and Diagnostic Testing under clinical trial. These customers need to pay to IQVIA and aging details and invoices are generated for the same.\\r\\nThe following are the processes which were covered:\\r\\n\\r\\nTracking Payments, Automated Real Time Metrics Reporting (Dashboard), Past Due Notifications, AR Statements, Credit/Rebill.\\r\\nResponsibilities: \\u00e2\\u0080\\u00a2 Conducting meetings with clients and key stakeholders to gather requirements, analyze, finalize and have formal sign-offs from approvers Gather and perform analysis of the business requirements \\u00e2\\u0080\\u00a2 Translating the business requirements into the Business Requirement Document [BRD], Functional Requirement Document [FRD].\\r\\n\\u00e2\\u0080\\u00a2 Facilitating meetings with the appropriate subject matter experts in both business and technology teams \\u00e2\\u0080\\u00a2 Coordinating with business user community for the execution of user acceptance test as well as tracking issues \\u00e2\\u0080\\u00a2 Working, collaborating and coordinating with Offshore and Onsite team members to fulfill the BA responsibilities from project initiation to Post-Implementation \\u00e2\\u0080\\u00a2 Reviewing the test scripts with business users as well as technology team. Execute test scripts with expected results for the System Integration Test (SIT) and User Acceptance Test (UAT) \\u00e2\\u0080\\u00a2 Coordinating and conducting the Production Acceptance Testing (PAT) with the business users \\u00e2\\u0080\\u00a2 Creating flow diagrams, structure charts, and other types of system or process representations \\u00e2\\u0080\\u00a2 Managing changes to requirements and baseline through a change control process \\u00e2\\u0080\\u00a2 Utilizing standard methods, design and testing tools throughout project development life cycle \\u00e2\\u0080\\u00a2 Work closely with the operational functional teams, operations management, and personnel, and various technology teams to facilitate a shared understanding of requirements and priorities across all areas\\r\\ncompany - Eduavenir IT Solution\\r\\ndescription - Project: M.B.M.S\\r\\n\\r\\nM.B.M.S. - is an Inventory management application that allows user to manage inventory details of different warehouses, having different products located at various locations and help extract what goods have been procured, sold or returned by customers. It generates automated invoicesalong withcustomized reports. It also managescustomer complaint and resolution system implementation along with automated MIS on monthly basis.Sales and forecastingis also developed on MIS System and the streamlining of process of warehousing and dispatch along with online proof of delivery management system (POD documentation) is generated.\\r\\n\\r\\nResponsibilities: \\u00e2\\u0080\\u00a2 Participate in requirement gathering discussion with client to understand the flow of business processes \\u00e2\\u0080\\u00a2 Analyze the requirements and determine the core processes, develop Process Documentation and ensure to stay up-to-date in conjunction with on-going changes \\u00e2\\u0080\\u00a2 Participate in process flow analysis and preparing BRD, SRS.\\r\\n\\u00e2\\u0080\\u00a2 Coordinating with developers, designers & operations teams for various nuances of the project, communicate the stakeholder requirements from requirement /enhancement to implementation and finally deliver the same within estimated timeframe.\\r\\n\\u00e2\\u0080\\u00a2 Support UAT by reviewing test cases, manage version control of documents, software builds.\\r\\n\\u00e2\\u0080\\u00a2 Coordinate with the stakeholders for UAT sign off and coordinate internally for production movement till Golive stage of the application.\\r\\n\\u00e2\\u0080\\u00a2 Provide demo and training to internal and end user using PowerPoint presentation.\\r\\n\\u00e2\\u0080\\u00a2 Resolving project functional &technical issues during UAT.\\r\\n\\u00e2\\u0080\\u00a2 Prioritizing the Production bugs and resolving the same within the estimated timeframe.\\r\\n\\u00e2\\u0080\\u00a2 Preparing Project Status Report and Production Bugs Status to all the stakeholders.\\r\\n\\u00e2\\u0080\\u00a2 Promoting and Networking for online trading platform.\\r\\n\\u00e2\\u0080\\u00a2 Designing query sheet for obtaining and comparison of quotes from various vendors.\\r\\n\\u00e2\\u0080\\u00a2 Development of product codes / material codes for inventory management (Master Data Management)\\r\\ncompany - CAPGEMINI Head Office\\r\\ndescription - Type: Mobile and Device Testing.       Duration: January 2014 - August 2014\\r\\n\\r\\nFollet - An application which takes an electronic request from the user for the books he requires from a particular follet store. This detailed information about books that will include the name of the book, its price, the date of the transaction and the parties involved which will then be sent to follet stores. User then create request for one or more books for a given date. This request is then processed further and user gets a mail of the date when he will be provided with that book.\\r\\n\\r\\nResponsibilities: \\u00e2\\u0080\\u00a2 Understanding the needs and business requirements.\\r\\n\\u00e2\\u0080\\u00a2 Preparing BRD, SRS by eliciting all the requirements from the client and SMEs \\u00e2\\u0080\\u00a2 Understanding the dependency of the modules in the system \\u00e2\\u0080\\u00a2 Preparation of test plan for Unit level and Integration level.\\r\\n\\u00e2\\u0080\\u00a2 Preparation and execution of test cases.\\r\\n\\u00e2\\u0080\\u00a2 Defect tracking, Issue Resolution, Risk Monitoring, Status Tracking, Reporting and Follow-up.\\r\\n\\u00e2\\u0080\\u00a2 Preparation of Test Completion report.\\r\\ncompany - CAPGEMINI Head Office\\r\\ndescription - \\r\\ncompany - CAPGEMINI Head Office\\r\\ndescription - Humana is a health care insurance project of U.S. which deals with supplying various medicines to citizens as per the doctor's reference and patient's insurance policy. This application keeps track of all the medicines user has consumed in the past and generates a patient history. A citizen is given a drug only after the doctor's reference so the doctor's information is also linked with the patient's history.\\r\\n\\r\\nResponsibilities: \\u00e2\\u0080\\u00a2 Understanding the requirements and getting clarifications from client.\\r\\n\\u00e2\\u0080\\u00a2 Involved in writing test cases based on test scenarios and execute them.\\r\\n\\u00e2\\u0080\\u00a2 Ensuring Test Coverage using Requirement Traceability Matrix (RTM) \\u00e2\\u0080\\u00a2 Preparation of Test Completion report.\\r\\ncompany - CAPGEMINI Head Office\\r\\ndescription - Testing Trends WQR (World Quality Report) is an application which allows the users to take a survey on different methods and technologies used for testing. Users can choose to answer any type of questions under three different categories. Users have a facility to search, view and export the data to excel. Also, users get daily and weekly reports through email about the new trends in testing implemented around the globe. Testing Trends WQR app is available on Android and IOS platforms.\\r\\n\\r\\nResponsibilities: \\u00e2\\u0080\\u00a2 Understanding the requirements and getting clarifications from client.\\r\\n\\u00e2\\u0080\\u00a2 Writing test cases based on test scenarios and executed them.\\r\\n\\u00e2\\u0080\\u00a2 Performing different types of testing such as Functional, Integration, System, and UAT.\\r\\n\\u00e2\\u0080\\u00a2 Defect resolution and maintenance of the application.\"\n        ],\n        \"semantic_type\": \"\",\n        \"description\": \"\"\n      }\n    }\n  ]\n}"
            }
          },
          "metadata": {},
          "execution_count": 4
        }
      ]
    },
    {
      "cell_type": "code",
      "source": [
        "df.shape"
      ],
      "metadata": {
        "colab": {
          "base_uri": "https://localhost:8080/"
        },
        "id": "nUyiK73IEDH1",
        "outputId": "c977210f-edc4-4bfb-eed8-68fb209aedb8"
      },
      "execution_count": null,
      "outputs": [
        {
          "output_type": "execute_result",
          "data": {
            "text/plain": [
              "(962, 2)"
            ]
          },
          "metadata": {},
          "execution_count": 5
        }
      ]
    },
    {
      "cell_type": "code",
      "source": [
        "\n",
        "df.info()"
      ],
      "metadata": {
        "colab": {
          "base_uri": "https://localhost:8080/"
        },
        "id": "JLDJYfvDEOU-",
        "outputId": "1be13ece-0aa1-4ce0-f170-36db3e83b119"
      },
      "execution_count": null,
      "outputs": [
        {
          "output_type": "stream",
          "name": "stdout",
          "text": [
            "<class 'pandas.core.frame.DataFrame'>\n",
            "RangeIndex: 962 entries, 0 to 961\n",
            "Data columns (total 2 columns):\n",
            " #   Column    Non-Null Count  Dtype \n",
            "---  ------    --------------  ----- \n",
            " 0   Category  962 non-null    object\n",
            " 1   Resume    962 non-null    object\n",
            "dtypes: object(2)\n",
            "memory usage: 15.2+ KB\n"
          ]
        }
      ]
    },
    {
      "cell_type": "code",
      "source": [
        "df['Category'].value_counts()"
      ],
      "metadata": {
        "colab": {
          "base_uri": "https://localhost:8080/"
        },
        "id": "XiVwaM00ESFs",
        "outputId": "33a11a97-a56f-4d05-c10c-463d4f9acf11"
      },
      "execution_count": null,
      "outputs": [
        {
          "output_type": "execute_result",
          "data": {
            "text/plain": [
              "Category\n",
              "Java Developer               84\n",
              "Testing                      70\n",
              "DevOps Engineer              55\n",
              "Python Developer             48\n",
              "Web Designing                45\n",
              "HR                           44\n",
              "Hadoop                       42\n",
              "Blockchain                   40\n",
              "ETL Developer                40\n",
              "Operations Manager           40\n",
              "Data Science                 40\n",
              "Sales                        40\n",
              "Mechanical Engineer          40\n",
              "Arts                         36\n",
              "Database                     33\n",
              "Electrical Engineering       30\n",
              "Health and fitness           30\n",
              "PMO                          30\n",
              "Business Analyst             28\n",
              "DotNet Developer             28\n",
              "Automation Testing           26\n",
              "Network Security Engineer    25\n",
              "SAP Developer                24\n",
              "Civil Engineer               24\n",
              "Advocate                     20\n",
              "Name: count, dtype: int64"
            ]
          },
          "metadata": {},
          "execution_count": 7
        }
      ]
    },
    {
      "cell_type": "code",
      "source": [
        "plt.figure(figsize=(15,5))\n",
        "sns.countplot(x='Category', data=df)\n",
        "plt.xticks(rotation=90)\n",
        "plt.show()"
      ],
      "metadata": {
        "colab": {
          "base_uri": "https://localhost:8080/",
          "height": 577
        },
        "id": "QsLonKVKEW1L",
        "outputId": "d4d41874-e902-4afb-ee8d-0b9f4197a504"
      },
      "execution_count": null,
      "outputs": [
        {
          "output_type": "display_data",
          "data": {
            "text/plain": [
              "<Figure size 1500x500 with 1 Axes>"
            ],
            "image/png": "[encoded data removed]"
          },
          "metadata": {}
        }
      ]
    },
    {
      "cell_type": "code",
      "source": [
        "counts = df['Category'].value_counts()\n",
        "labels = df['Category'].unique()"
      ],
      "metadata": {
        "id": "3TtlkUDnEhrl"
      },
      "execution_count": null,
      "outputs": []
    },
    {
      "cell_type": "code",
      "source": [
        "print(labels)"
      ],
      "metadata": {
        "colab": {
          "base_uri": "https://localhost:8080/"
        },
        "id": "9bLCcb5jFK2K",
        "outputId": "272f944e-4df3-4d3c-b7aa-882286d20345"
      },
      "execution_count": null,
      "outputs": [
        {
          "output_type": "stream",
          "name": "stdout",
          "text": [
            "['Data Science' 'HR' 'Advocate' 'Arts' 'Web Designing'\n",
            " 'Mechanical Engineer' 'Sales' 'Health and fitness' 'Civil Engineer'\n",
            " 'Java Developer' 'Business Analyst' 'SAP Developer' 'Automation Testing'\n",
            " 'Electrical Engineering' 'Operations Manager' 'Python Developer'\n",
            " 'DevOps Engineer' 'Network Security Engineer' 'PMO' 'Database' 'Hadoop'\n",
            " 'ETL Developer' 'DotNet Developer' 'Blockchain' 'Testing']\n"
          ]
        }
      ]
    },
    {
      "cell_type": "code",
      "source": [
        "plt.pie(counts,labels=labels, autopct='%1.1f%%',shadow=True, colors=plt.cm.coolwarm(np.linspace(0,1,3)))\n",
        "plt.show()"
      ],
      "metadata": {
        "colab": {
          "base_uri": "https://localhost:8080/",
          "height": 406
        },
        "id": "RskVO-NRFPFa",
        "outputId": "e2c5abf1-849e-4d20-fc30-093812aa697b"
      },
      "execution_count": null,
      "outputs": [
        {
          "output_type": "display_data",
          "data": {
            "text/plain": [
              "<Figure size 640x480 with 1 Axes>"
            ],
            "image/png": "[encoded data removed]"
          },
          "metadata": {}
        }
      ]
    },
    {
      "cell_type": "code",
      "source": [
        "df['Category'][0]"
      ],
      "metadata": {
        "id": "8yHL6BwRFY9t",
        "colab": {
          "base_uri": "https://localhost:8080/",
          "height": 36
        },
        "outputId": "ab9f3535-7909-44c1-cf7c-1dd91f6ae1b5"
      },
      "execution_count": null,
      "outputs": [
        {
          "output_type": "execute_result",
          "data": {
            "text/plain": [
              "'Data Science'"
            ],
            "application/vnd.google.colaboratory.intrinsic+json": {
              "type": "string"
            }
          },
          "metadata": {},
          "execution_count": 12
        }
      ]
    },
    {
      "cell_type": "code",
      "source": [
        "df['Resume'][0]"
      ],
      "metadata": {
        "colab": {
          "base_uri": "https://localhost:8080/",
          "height": 608
        },
        "id": "ZapEIlW9zg8G",
        "outputId": "6235adfe-df0e-4d41-fd8d-e0bf0bf96b88"
      },
      "execution_count": null,
      "outputs": [
        {
          "output_type": "execute_result",
          "data": {
            "text/plain": [
              "'Skills * Programming Languages: Python (pandas, numpy, scipy, scikit-learn, matplotlib), Sql, Java, JavaScript/JQuery. * Machine learning: Regression, SVM, NaÃ¯ve Bayes, KNN, Random Forest, Decision Trees, Boosting techniques, Cluster Analysis, Word Embedding, Sentiment Analysis, Natural Language processing, Dimensionality reduction, Topic Modelling (LDA, NMF), PCA & Neural Nets. * Database Visualizations: Mysql, SqlServer, Cassandra, Hbase, ElasticSearch D3.js, DC.js, Plotly, kibana, matplotlib, ggplot, Tableau. * Others: Regular Expression, HTML, CSS, Angular 6, Logstash, Kafka, Python Flask, Git, Docker, computer vision - Open CV and understanding of Deep learning.Education Details \\r\\n\\r\\nData Science Assurance Associate \\r\\n\\r\\nData Science Assurance Associate - Ernst & Young LLP\\r\\nSkill Details \\r\\nJAVASCRIPT- Exprience - 24 months\\r\\njQuery- Exprience - 24 months\\r\\nPython- Exprience - 24 monthsCompany Details \\r\\ncompany - Ernst & Young LLP\\r\\ndescription - Fraud Investigations and Dispute Services   Assurance\\r\\nTECHNOLOGY ASSISTED REVIEW\\r\\nTAR (Technology Assisted Review) assists in accelerating the review process and run analytics and generate reports.\\r\\n* Core member of a team helped in developing automated review platform tool from scratch for assisting E discovery domain, this tool implements predictive coding and topic modelling by automating reviews, resulting in reduced labor costs and time spent during the lawyers review.\\r\\n* Understand the end to end flow of the solution, doing research and development for classification models, predictive analysis and mining of the information present in text data. Worked on analyzing the outputs and precision monitoring for the entire tool.\\r\\n* TAR assists in predictive coding, topic modelling from the evidence by following EY standards. Developed the classifier models in order to identify \"red flags\" and fraud-related issues.\\r\\n\\r\\nTools & Technologies: Python, scikit-learn, tfidf, word2vec, doc2vec, cosine similarity, NaÃ¯ve Bayes, LDA, NMF for topic modelling, Vader and text blob for sentiment analysis. Matplot lib, Tableau dashboard for reporting.\\r\\n\\r\\nMULTIPLE DATA SCIENCE AND ANALYTIC PROJECTS (USA CLIENTS)\\r\\nTEXT ANALYTICS - MOTOR VEHICLE CUSTOMER REVIEW DATA * Received customer feedback survey data for past one year. Performed sentiment (Positive, Negative & Neutral) and time series analysis on customer comments across all 4 categories.\\r\\n* Created heat map of terms by survey category based on frequency of words * Extracted Positive and Negative words across all the Survey categories and plotted Word cloud.\\r\\n* Created customized tableau dashboards for effective reporting and visualizations.\\r\\nCHATBOT * Developed a user friendly chatbot for one of our Products which handle simple questions about hours of operation, reservation options and so on.\\r\\n* This chat bot serves entire product related questions. Giving overview of tool via QA platform and also give recommendation responses so that user question to build chain of relevant answer.\\r\\n* This too has intelligence to build the pipeline of questions as per user requirement and asks the relevant /recommended questions.\\r\\n\\r\\nTools & Technologies: Python, Natural language processing, NLTK, spacy, topic modelling, Sentiment analysis, Word Embedding, scikit-learn, JavaScript/JQuery, SqlServer\\r\\n\\r\\nINFORMATION GOVERNANCE\\r\\nOrganizations to make informed decisions about all of the information they store. The integrated Information Governance portfolio synthesizes intelligence across unstructured data sources and facilitates action to ensure organizations are best positioned to counter information risk.\\r\\n* Scan data from multiple sources of formats and parse different file formats, extract Meta data information, push results for indexing elastic search and created customized, interactive dashboards using kibana.\\r\\n* Preforming ROT Analysis on the data which give information of data which helps identify content that is either Redundant, Outdated, or Trivial.\\r\\n* Preforming full-text search analysis on elastic search with predefined methods which can tag as (PII) personally identifiable information (social security numbers, addresses, names, etc.) which frequently targeted during cyber-attacks.\\r\\nTools & Technologies: Python, Flask, Elastic Search, Kibana\\r\\n\\r\\nFRAUD ANALYTIC PLATFORM\\r\\nFraud Analytics and investigative platform to review all red flag cases.\\r\\nâ\\x80¢ FAP is a Fraud Analytics and investigative platform with inbuilt case manager and suite of Analytics for various ERP systems.\\r\\n* It can be used by clients to interrogate their Accounting systems for identifying the anomalies which can be indicators of fraud by running advanced analytics\\r\\nTools & Technologies: HTML, JavaScript, SqlServer, JQuery, CSS, Bootstrap, Node.js, D3.js, DC.js'"
            ],
            "application/vnd.google.colaboratory.intrinsic+json": {
              "type": "string"
            }
          },
          "metadata": {},
          "execution_count": 13
        }
      ]
    },
    {
      "cell_type": "code",
      "source": [
        "import re\n",
        "def cleanResume(txt):\n",
        "  cleanTxt = re.sub('http\\S+\\s',' ', txt)\n",
        "  cleanTxt = re.sub('@\\S+',' ',cleanTxt)\n",
        "  cleanTxt = re.sub('#\\S+',' ',cleanTxt)\n",
        "  cleanTxt = re.sub('\\s+',' ',cleanTxt)\n",
        "  cleanTxt = re.sub('RT|cc', ' ', cleanTxt)\n",
        "  cleanTxt = re.sub('[%s]' % re.escape(\"\"\"!\"#$%&'()*+,-./:;<=>?@[\\]^_`{|}~\"\"\"), ' ', cleanTxt)\n",
        "  cleanTxt = re.sub(r'[^\\x00-\\x7f]', ' ', cleanTxt)\n",
        "\n",
        "  return cleanTxt"
      ],
      "metadata": {
        "id": "K-D5NPrhzjri"
      },
      "execution_count": null,
      "outputs": []
    },
    {
      "cell_type": "code",
      "source": [
        "cleanResume(df['Resume'][0])"
      ],
      "metadata": {
        "id": "GVVivy4-0JIN",
        "colab": {
          "base_uri": "https://localhost:8080/",
          "height": 140
        },
        "outputId": "6319a152-8589-4a00-fe63-ab6923f1095a"
      },
      "execution_count": null,
      "outputs": [
        {
          "output_type": "execute_result",
          "data": {
            "text/plain": [
              "'Skills   Programming Languages  Python  pandas  numpy  scipy  scikit learn  matplotlib   Sql  Java  JavaScript JQuery    Machine learning  Regression  SVM  Na  ve Bayes  KNN  Random Forest  Decision Trees  Boosting techniques  Cluster Analysis  Word Embedding  Sentiment Analysis  Natural Language processing  Dimensionality reduction  Topic Modelling  LDA  NMF   PCA   Neural Nets    Database Visualizations  Mysql  SqlServer  Cassandra  Hbase  ElasticSearch D3 js  DC js  Plotly  kibana  matplotlib  ggplot  Tableau    Others  Regular Expression  HTML  CSS  Angular 6  Logstash  Kafka  Python Flask  Git  Docker  computer vision   Open CV and understanding of Deep learning Education Details Data Science Assurance Associate Data Science Assurance Associate   Ernst   Young LLP Skill Details JAVASCRIPT  Exprience   24 months jQuery  Exprience   24 months Python  Exprience   24 monthsCompany Details company   Ernst   Young LLP description   Fraud Investigations and Dispute Services Assurance TECHNOLOGY ASSISTED REVIEW TAR  Technology Assisted Review  assists in a elerating the review process and run analytics and generate reports    Core member of a team helped in developing automated review platform tool from scratch for assisting E discovery domain  this tool implements predictive coding and topic modelling by automating reviews  resulting in reduced labor costs and time spent during the lawyers review    Understand the end to end flow of the solution  doing research and development for classification models  predictive analysis and mining of the information present in text data  Worked on analyzing the outputs and precision monitoring for the entire tool    TAR assists in predictive coding  topic modelling from the evidence by following EY standards  Developed the classifier models in order to identify  red flags  and fraud related issues  Tools   Technologies  Python  scikit learn  tfidf  word2vec  doc2vec  cosine similarity  Na  ve Bayes  LDA  NMF for topic modelling  Vader and text blob for sentiment analysis  Matplot lib  Tableau dashboard for reporting  MULTIPLE DATA SCIENCE AND ANALYTIC PROJECTS  USA CLIENTS  TEXT ANALYTICS   MOTOR VEHICLE CUSTOMER REVIEW DATA   Received customer feedback survey data for past one year  Performed sentiment  Positive  Negative   Neutral  and time series analysis on customer comments across all 4 categories    Created heat map of terms by survey category based on frequency of words   Extracted Positive and Negative words across all the Survey categories and plotted Word cloud    Created customized tableau dashboards for effective reporting and visualizations  CHATBOT   Developed a user friendly chatbot for one of our Products which handle simple questions about hours of operation  reservation options and so on    This chat bot serves entire product related questions  Giving overview of tool via QA platform and also give recommendation responses so that user question to build chain of relevant answer    This too has intelligence to build the pipeline of questions as per user requirement and asks the relevant  recommended questions  Tools   Technologies  Python  Natural language processing  NLTK  spacy  topic modelling  Sentiment analysis  Word Embedding  scikit learn  JavaScript JQuery  SqlServer INFORMATION GOVERNANCE Organizations to make informed decisions about all of the information they store  The integrated Information Governance portfolio synthesizes intelligence across unstructured data sources and facilitates action to ensure organizations are best positioned to counter information risk    Scan data from multiple sources of formats and parse different file formats  extract Meta data information  push results for indexing elastic search and created customized  interactive dashboards using kibana    Preforming ROT Analysis on the data which give information of data which helps identify content that is either Redundant  Outdated  or Trivial    Preforming full text search analysis on elastic search with predefined methods which can tag as  PII  personally identifiable information  social security numbers  addresses  names  etc   which frequently targeted during cyber attacks  Tools   Technologies  Python  Flask  Elastic Search  Kibana FRAUD ANALYTIC PLATFORM Fraud Analytics and investigative platform to review all red flag cases      FAP is a Fraud Analytics and investigative platform with inbuilt case manager and suite of Analytics for various ERP systems    It can be used by clients to interrogate their A ounting systems for identifying the anomalies which can be indicators of fraud by running advanced analytics Tools   Technologies  HTML  JavaScript  SqlServer  JQuery  CSS  Bootstrap  Node js  D3 js  DC js'"
            ],
            "application/vnd.google.colaboratory.intrinsic+json": {
              "type": "string"
            }
          },
          "metadata": {},
          "execution_count": 15
        }
      ]
    },
    {
      "cell_type": "code",
      "source": [
        "df['Resume'] = df['Resume'].apply(lambda x: cleanResume(x))"
      ],
      "metadata": {
        "id": "k791wRKn1S9-"
      },
      "execution_count": null,
      "outputs": []
    },
    {
      "cell_type": "code",
      "source": [
        "df['Category']"
      ],
      "metadata": {
        "colab": {
          "base_uri": "https://localhost:8080/"
        },
        "id": "mvi6dvR-29Ow",
        "outputId": "8d7482f2-bdd1-42db-f2e0-40e2828a7250"
      },
      "execution_count": null,
      "outputs": [
        {
          "output_type": "execute_result",
          "data": {
            "text/plain": [
              "0      Data Science\n",
              "1      Data Science\n",
              "2      Data Science\n",
              "3      Data Science\n",
              "4      Data Science\n",
              "           ...     \n",
              "957         Testing\n",
              "958         Testing\n",
              "959         Testing\n",
              "960         Testing\n",
              "961         Testing\n",
              "Name: Category, Length: 962, dtype: object"
            ]
          },
          "metadata": {},
          "execution_count": 17
        }
      ]
    },
    {
      "cell_type": "code",
      "source": [
        "from sklearn.preprocessing import LabelEncoder\n",
        "le = LabelEncoder()\n",
        "df['Category'] = le.fit_transform(df['Category'])"
      ],
      "metadata": {
        "id": "NGC28Fuh3J52"
      },
      "execution_count": null,
      "outputs": []
    },
    {
      "cell_type": "code",
      "source": [
        "df"
      ],
      "metadata": {
        "colab": {
          "base_uri": "https://localhost:8080/",
          "height": 423
        },
        "id": "O6xacvts3diu",
        "outputId": "fe4bd40f-03d4-4bb2-f097-b318a2c59d61"
      },
      "execution_count": null,
      "outputs": [
        {
          "output_type": "execute_result",
          "data": {
            "text/plain": [
              "     Category                                             Resume\n",
              "0           6  Skills   Programming Languages  Python  pandas...\n",
              "1           6  Education Details May 2013 to May 2017 B E UIT...\n",
              "2           6  Areas of Interest Deep Learning  Control Syste...\n",
              "3           6  Skills     R     Python     SAP HANA     Table...\n",
              "4           6  Education Details MCA YMCAUST  Faridabad  Hary...\n",
              "..        ...                                                ...\n",
              "957        23  Computer Skills      Proficient in MS office  ...\n",
              "958        23      Willingness to a ept the challenges      P...\n",
              "959        23  PERSONAL SKILLS     Quick learner      Eagerne...\n",
              "960        23  COMPUTER SKILLS   SOFTWARE KNOWLEDGE MS Power ...\n",
              "961        23  Skill Set OS Windows XP 7 8 8 1 10 Database MY...\n",
              "\n",
              "[962 rows x 2 columns]"
            ],
            "text/html": [
              "\n",
              "  <div id=\"df-bcecdd3d-7df4-4f6b-b6dc-1468789a68d9\" class=\"colab-df-container\">\n",
              "    <div>\n",
              "<style scoped>\n",
              "    .dataframe tbody tr th:only-of-type {\n",
              "        vertical-align: middle;\n",
              "    }\n",
              "\n",
              "    .dataframe tbody tr th {\n",
              "        vertical-align: top;\n",
              "    }\n",
              "\n",
              "    .dataframe thead th {\n",
              "        text-align: right;\n",
              "    }\n",
              "</style>\n",
              "<table border=\"1\" class=\"dataframe\">\n",
              "  <thead>\n",
              "    <tr style=\"text-align: right;\">\n",
              "      <th></th>\n",
              "      <th>Category</th>\n",
              "      <th>Resume</th>\n",
              "    </tr>\n",
              "  </thead>\n",
              "  <tbody>\n",
              "    <tr>\n",
              "      <th>0</th>\n",
              "      <td>6</td>\n",
              "      <td>Skills   Programming Languages  Python  pandas...</td>\n",
              "    </tr>\n",
              "    <tr>\n",
              "      <th>1</th>\n",
              "      <td>6</td>\n",
              "      <td>Education Details May 2013 to May 2017 B E UIT...</td>\n",
              "    </tr>\n",
              "    <tr>\n",
              "      <th>2</th>\n",
              "      <td>6</td>\n",
              "      <td>Areas of Interest Deep Learning  Control Syste...</td>\n",
              "    </tr>\n",
              "    <tr>\n",
              "      <th>3</th>\n",
              "      <td>6</td>\n",
              "      <td>Skills     R     Python     SAP HANA     Table...</td>\n",
              "    </tr>\n",
              "    <tr>\n",
              "      <th>4</th>\n",
              "      <td>6</td>\n",
              "      <td>Education Details MCA YMCAUST  Faridabad  Hary...</td>\n",
              "    </tr>\n",
              "    <tr>\n",
              "      <th>...</th>\n",
              "      <td>...</td>\n",
              "      <td>...</td>\n",
              "    </tr>\n",
              "    <tr>\n",
              "      <th>957</th>\n",
              "      <td>23</td>\n",
              "      <td>Computer Skills      Proficient in MS office  ...</td>\n",
              "    </tr>\n",
              "    <tr>\n",
              "      <th>958</th>\n",
              "      <td>23</td>\n",
              "      <td>Willingness to a ept the challenges      P...</td>\n",
              "    </tr>\n",
              "    <tr>\n",
              "      <th>959</th>\n",
              "      <td>23</td>\n",
              "      <td>PERSONAL SKILLS     Quick learner      Eagerne...</td>\n",
              "    </tr>\n",
              "    <tr>\n",
              "      <th>960</th>\n",
              "      <td>23</td>\n",
              "      <td>COMPUTER SKILLS   SOFTWARE KNOWLEDGE MS Power ...</td>\n",
              "    </tr>\n",
              "    <tr>\n",
              "      <th>961</th>\n",
              "      <td>23</td>\n",
              "      <td>Skill Set OS Windows XP 7 8 8 1 10 Database MY...</td>\n",
              "    </tr>\n",
              "  </tbody>\n",
              "</table>\n",
              "<p>962 rows × 2 columns</p>\n",
              "</div>\n",
              "    <div class=\"colab-df-buttons\">\n",
              "\n",
              "  <div class=\"colab-df-container\">\n",
              "    <button class=\"colab-df-convert\" onclick=\"convertToInteractive('df-bcecdd3d-7df4-4f6b-b6dc-1468789a68d9')\"\n",
              "            title=\"Convert this dataframe to an interactive table.\"\n",
              "            style=\"display:none;\">\n",
              "\n",
              "  <svg xmlns=\"http://www.w3.org/2000/svg\" height=\"24px\" viewBox=\"0 -960 960 960\">\n",
              "    <path d=\"M120-120v-720h720v720H120Zm60-500h600v-160H180v160Zm220 220h160v-160H400v160Zm0 220h160v-160H400v160ZM180-400h160v-160H180v160Zm440 0h160v-160H620v160ZM180-180h160v-160H180v160Zm440 0h160v-160H620v160Z\"/>\n",
              "  </svg>\n",
              "    </button>\n",
              "\n",
              "  <style>\n",
              "    .colab-df-container {\n",
              "      display:flex;\n",
              "      gap: 12px;\n",
              "    }\n",
              "\n",
              "    .colab-df-convert {\n",
              "      background-color: #E8F0FE;\n",
              "      border: none;\n",
              "      border-radius: 50%;\n",
              "      cursor: pointer;\n",
              "      display: none;\n",
              "      fill: #1967D2;\n",
              "      height: 32px;\n",
              "      padding: 0 0 0 0;\n",
              "      width: 32px;\n",
              "    }\n",
              "\n",
              "    .colab-df-convert:hover {\n",
              "      background-color: #E2EBFA;\n",
              "      box-shadow: 0px 1px 2px rgba(60, 64, 67, 0.3), 0px 1px 3px 1px rgba(60, 64, 67, 0.15);\n",
              "      fill: #174EA6;\n",
              "    }\n",
              "\n",
              "    .colab-df-buttons div {\n",
              "      margin-bottom: 4px;\n",
              "    }\n",
              "\n",
              "    [theme=dark] .colab-df-convert {\n",
              "      background-color: #3B4455;\n",
              "      fill: #D2E3FC;\n",
              "    }\n",
              "\n",
              "    [theme=dark] .colab-df-convert:hover {\n",
              "      background-color: #434B5C;\n",
              "      box-shadow: 0px 1px 3px 1px rgba(0, 0, 0, 0.15);\n",
              "      filter: drop-shadow(0px 1px 2px rgba(0, 0, 0, 0.3));\n",
              "      fill: #FFFFFF;\n",
              "    }\n",
              "  </style>\n",
              "\n",
              "    <script>\n",
              "      const buttonEl =\n",
              "        document.querySelector('#df-bcecdd3d-7df4-4f6b-b6dc-1468789a68d9 button.colab-df-convert');\n",
              "      buttonEl.style.display =\n",
              "        google.colab.kernel.accessAllowed ? 'block' : 'none';\n",
              "\n",
              "      async function convertToInteractive(key) {\n",
              "        const element = document.querySelector('#df-bcecdd3d-7df4-4f6b-b6dc-1468789a68d9');\n",
              "        const dataTable =\n",
              "          await google.colab.kernel.invokeFunction('convertToInteractive',\n",
              "                                                    [key], {});\n",
              "        if (!dataTable) return;\n",
              "\n",
              "        const docLinkHtml = 'Like what you see? Visit the ' +\n",
              "          '<a target=\"_blank\" href=https://colab.research.google.com/notebooks/data_table.ipynb>data table notebook</a>'\n",
              "          + ' to learn more about interactive tables.';\n",
              "        element.innerHTML = '';\n",
              "        dataTable['output_type'] = 'display_data';\n",
              "        await google.colab.output.renderOutput(dataTable, element);\n",
              "        const docLink = document.createElement('div');\n",
              "        docLink.innerHTML = docLinkHtml;\n",
              "        element.appendChild(docLink);\n",
              "      }\n",
              "    </script>\n",
              "  </div>\n",
              "\n",
              "\n",
              "<div id=\"df-27fa853d-e3d0-4cd1-8b1c-f28c1451fd8c\">\n",
              "  <button class=\"colab-df-quickchart\" onclick=\"quickchart('df-27fa853d-e3d0-4cd1-8b1c-f28c1451fd8c')\"\n",
              "            title=\"Suggest charts\"\n",
              "            style=\"display:none;\">\n",
              "\n",
              "<svg xmlns=\"http://www.w3.org/2000/svg\" height=\"24px\"viewBox=\"0 0 24 24\"\n",
              "     width=\"24px\">\n",
              "    <g>\n",
              "        <path d=\"M19 3H5c-1.1 0-2 .9-2 2v14c0 1.1.9 2 2 2h14c1.1 0 2-.9 2-2V5c0-1.1-.9-2-2-2zM9 17H7v-7h2v7zm4 0h-2V7h2v10zm4 0h-2v-4h2v4z\"/>\n",
              "    </g>\n",
              "</svg>\n",
              "  </button>\n",
              "\n",
              "<style>\n",
              "  .colab-df-quickchart {\n",
              "      --bg-color: #E8F0FE;\n",
              "      --fill-color: #1967D2;\n",
              "      --hover-bg-color: #E2EBFA;\n",
              "      --hover-fill-color: #174EA6;\n",
              "      --disabled-fill-color: #AAA;\n",
              "      --disabled-bg-color: #DDD;\n",
              "  }\n",
              "\n",
              "  [theme=dark] .colab-df-quickchart {\n",
              "      --bg-color: #3B4455;\n",
              "      --fill-color: #D2E3FC;\n",
              "      --hover-bg-color: #434B5C;\n",
              "      --hover-fill-color: #FFFFFF;\n",
              "      --disabled-bg-color: #3B4455;\n",
              "      --disabled-fill-color: #666;\n",
              "  }\n",
              "\n",
              "  .colab-df-quickchart {\n",
              "    background-color: var(--bg-color);\n",
              "    border: none;\n",
              "    border-radius: 50%;\n",
              "    cursor: pointer;\n",
              "    display: none;\n",
              "    fill: var(--fill-color);\n",
              "    height: 32px;\n",
              "    padding: 0;\n",
              "    width: 32px;\n",
              "  }\n",
              "\n",
              "  .colab-df-quickchart:hover {\n",
              "    background-color: var(--hover-bg-color);\n",
              "    box-shadow: 0 1px 2px rgba(60, 64, 67, 0.3), 0 1px 3px 1px rgba(60, 64, 67, 0.15);\n",
              "    fill: var(--button-hover-fill-color);\n",
              "  }\n",
              "\n",
              "  .colab-df-quickchart-complete:disabled,\n",
              "  .colab-df-quickchart-complete:disabled:hover {\n",
              "    background-color: var(--disabled-bg-color);\n",
              "    fill: var(--disabled-fill-color);\n",
              "    box-shadow: none;\n",
              "  }\n",
              "\n",
              "  .colab-df-spinner {\n",
              "    border: 2px solid var(--fill-color);\n",
              "    border-color: transparent;\n",
              "    border-bottom-color: var(--fill-color);\n",
              "    animation:\n",
              "      spin 1s steps(1) infinite;\n",
              "  }\n",
              "\n",
              "  @keyframes spin {\n",
              "    0% {\n",
              "      border-color: transparent;\n",
              "      border-bottom-color: var(--fill-color);\n",
              "      border-left-color: var(--fill-color);\n",
              "    }\n",
              "    20% {\n",
              "      border-color: transparent;\n",
              "      border-left-color: var(--fill-color);\n",
              "      border-top-color: var(--fill-color);\n",
              "    }\n",
              "    30% {\n",
              "      border-color: transparent;\n",
              "      border-left-color: var(--fill-color);\n",
              "      border-top-color: var(--fill-color);\n",
              "      border-right-color: var(--fill-color);\n",
              "    }\n",
              "    40% {\n",
              "      border-color: transparent;\n",
              "      border-right-color: var(--fill-color);\n",
              "      border-top-color: var(--fill-color);\n",
              "    }\n",
              "    60% {\n",
              "      border-color: transparent;\n",
              "      border-right-color: var(--fill-color);\n",
              "    }\n",
              "    80% {\n",
              "      border-color: transparent;\n",
              "      border-right-color: var(--fill-color);\n",
              "      border-bottom-color: var(--fill-color);\n",
              "    }\n",
              "    90% {\n",
              "      border-color: transparent;\n",
              "      border-bottom-color: var(--fill-color);\n",
              "    }\n",
              "  }\n",
              "</style>\n",
              "\n",
              "  <script>\n",
              "    async function quickchart(key) {\n",
              "      const quickchartButtonEl =\n",
              "        document.querySelector('#' + key + ' button');\n",
              "      quickchartButtonEl.disabled = true;  // To prevent multiple clicks.\n",
              "      quickchartButtonEl.classList.add('colab-df-spinner');\n",
              "      try {\n",
              "        const charts = await google.colab.kernel.invokeFunction(\n",
              "            'suggestCharts', [key], {});\n",
              "      } catch (error) {\n",
              "        console.error('Error during call to suggestCharts:', error);\n",
              "      }\n",
              "      quickchartButtonEl.classList.remove('colab-df-spinner');\n",
              "      quickchartButtonEl.classList.add('colab-df-quickchart-complete');\n",
              "    }\n",
              "    (() => {\n",
              "      let quickchartButtonEl =\n",
              "        document.querySelector('#df-27fa853d-e3d0-4cd1-8b1c-f28c1451fd8c button');\n",
              "      quickchartButtonEl.style.display =\n",
              "        google.colab.kernel.accessAllowed ? 'block' : 'none';\n",
              "    })();\n",
              "  </script>\n",
              "</div>\n",
              "\n",
              "  <div id=\"id_e6dd1732-86c8-4497-bd3e-f08c7012395a\">\n",
              "    <style>\n",
              "      .colab-df-generate {\n",
              "        background-color: #E8F0FE;\n",
              "        border: none;\n",
              "        border-radius: 50%;\n",
              "        cursor: pointer;\n",
              "        display: none;\n",
              "        fill: #1967D2;\n",
              "        height: 32px;\n",
              "        padding: 0 0 0 0;\n",
              "        width: 32px;\n",
              "      }\n",
              "\n",
              "      .colab-df-generate:hover {\n",
              "        background-color: #E2EBFA;\n",
              "        box-shadow: 0px 1px 2px rgba(60, 64, 67, 0.3), 0px 1px 3px 1px rgba(60, 64, 67, 0.15);\n",
              "        fill: #174EA6;\n",
              "      }\n",
              "\n",
              "      [theme=dark] .colab-df-generate {\n",
              "        background-color: #3B4455;\n",
              "        fill: #D2E3FC;\n",
              "      }\n",
              "\n",
              "      [theme=dark] .colab-df-generate:hover {\n",
              "        background-color: #434B5C;\n",
              "        box-shadow: 0px 1px 3px 1px rgba(0, 0, 0, 0.15);\n",
              "        filter: drop-shadow(0px 1px 2px rgba(0, 0, 0, 0.3));\n",
              "        fill: #FFFFFF;\n",
              "      }\n",
              "    </style>\n",
              "    <button class=\"colab-df-generate\" onclick=\"generateWithVariable('df')\"\n",
              "            title=\"Generate code using this dataframe.\"\n",
              "            style=\"display:none;\">\n",
              "\n",
              "  <svg xmlns=\"http://www.w3.org/2000/svg\" height=\"24px\"viewBox=\"0 0 24 24\"\n",
              "       width=\"24px\">\n",
              "    <path d=\"M7,19H8.4L18.45,9,17,7.55,7,17.6ZM5,21V16.75L18.45,3.32a2,2,0,0,1,2.83,0l1.4,1.43a1.91,1.91,0,0,1,.58,1.4,1.91,1.91,0,0,1-.58,1.4L9.25,21ZM18.45,9,17,7.55Zm-12,3A5.31,5.31,0,0,0,4.9,8.1,5.31,5.31,0,0,0,1,6.5,5.31,5.31,0,0,0,4.9,4.9,5.31,5.31,0,0,0,6.5,1,5.31,5.31,0,0,0,8.1,4.9,5.31,5.31,0,0,0,12,6.5,5.46,5.46,0,0,0,6.5,12Z\"/>\n",
              "  </svg>\n",
              "    </button>\n",
              "    <script>\n",
              "      (() => {\n",
              "      const buttonEl =\n",
              "        document.querySelector('#id_e6dd1732-86c8-4497-bd3e-f08c7012395a button.colab-df-generate');\n",
              "      buttonEl.style.display =\n",
              "        google.colab.kernel.accessAllowed ? 'block' : 'none';\n",
              "\n",
              "      buttonEl.onclick = () => {\n",
              "        google.colab.notebook.generateWithVariable('df');\n",
              "      }\n",
              "      })();\n",
              "    </script>\n",
              "  </div>\n",
              "\n",
              "    </div>\n",
              "  </div>\n"
            ],
            "application/vnd.google.colaboratory.intrinsic+json": {
              "type": "dataframe",
              "variable_name": "df",
              "summary": "{\n  \"name\": \"df\",\n  \"rows\": 962,\n  \"fields\": [\n    {\n      \"column\": \"Category\",\n      \"properties\": {\n        \"dtype\": \"number\",\n        \"std\": 7,\n        \"min\": 0,\n        \"max\": 24,\n        \"num_unique_values\": 25,\n        \"samples\": [\n          5,\n          8,\n          6\n        ],\n        \"semantic_type\": \"\",\n        \"description\": \"\"\n      }\n    },\n    {\n      \"column\": \"Resume\",\n      \"properties\": {\n        \"dtype\": \"category\",\n        \"num_unique_values\": 166,\n        \"samples\": [\n          \"KEY COMPETENCIES    Multi   Operations Management   People Management    Customer Services   Emails     MIS    Vendor   Client Services Management   Cross Functional Coordination   Banking   Financial Services    Transaction Monitoring   ATM Operations       Prepaid Card Operations  Pre Issuance   Post Issuance      POS Operations   JOB PROFILE   SKILLS      An effective communicator with excellent relationship building   interpersonal skills  Strong analytical  problem solving   organizational abilities      Extensive experience in managing operations with demonstrated leadership qualities   organisational skills during the tenure      Managing customer centric operations   ensuring customer satisfaction by achieving service quality norms      Analyzing of all operational problems  customer complaints and take preventive and corrective actions to resolve the same      Receive and respond to Key customer inquiries in an effective manner and provide relevant and timely information      Deft in steering banking back end operations  analyzing risks and managing delinquencies with dexterity across applying techniques for maximizing recoveries and minimizing credit losses      Analyzed   identified training needs of the team members and developing  organizing and conducting training programs and manage bottom quartile team to improve their performance      Preparing and maintaining daily MIS reports to evaluate the performance and efficiency of the process relate to various verticals      Measuring the performance of the processes in terms of efficiency and effectiveness matrix and ensuring adherence to SLA      Major Activities Define processes for Field Services were monitored and necessary checks were executed and controlled  Also measured Vendor SLA by analyzing the TAT of vendors   the Client SLA provided to us      As per company procedures  handling   ensuring vendor s payment issues to be sorted out  payments are processed on quarterly basis      Appropriately plan and execute each skill of operations in a ordance with the department s policies and procedures      Manage relationships with business team  software development team and other services to achieve project objectives  Different software Worked till now    a  CTL prime   Axis Bank Credit Cards b  Insight   For POS Machine technical operations for Amex  MID   TID Generation  ATOS  Venture Infotek  c  Ticket Management System   TATA Communications Private Services Ltd  ATM   NOC Operations  d  Branch Portal  Yalamanchili Software Exports Ltd    Prepaid Cards  SBI Bank   Zaggle Prepaid Oceans Services Ltd  Zaggle Prepaid Ocean Services Pvt Ltd Oct  2017 to Till Date Designation  Manager   Operations  Payment Industry   Prepaid Cards   INR  Education Details Commerce Mumbai  Maharashtra Mumbai University Operations Manager Service Manager   Operations  Payment Industry   Prepaid Cards   INR   FTC  Skill Details OPERATIONS  Exprience   73 months SATISFACTION  Exprience   48 months TRAINING  Exprience   24 months NOC  Exprience   23 months POINT OF SALE  Exprience   20 monthsCompany Details company   Zaggle Prepaid Ocean Services Pvt Ltd description   Card Operations company   Yalamanchili Software Exports Ltd description   24 7 Operations Pvt Ltd  Dec 2015 to Feb 2017 Designation  Service Manager   Operations  Payment Industry   Prepaid Cards   INR   FTC  Key Contributions      A result oriented business professional in planning  executing  managing processes  improving efficiency of operations  team building and detailing process information to determine effective result into operations      Ensuring PINs generation  SLA  is maintained and chargeback cases are raised in perfect timeframe      Managing email customer services properly and ensuring the emails are replied properly  Also  ensuring transaction monitoring is properly managed 24 7      Assisting Bankers  SBI   Associated Banks  for their BCP plans by getting executed in the system with the help of DR PR plans   vice versa or any other business requirements      Expertise in maintaining highest level of quality in operations  ensuring adherence to all the quality parameters and procedures as per the stringent norms      Lead  manage and supervise the execution of external audit engagements and responsible for presenting the findings   developing a quality reports to the senior Management and Clients      Coach mentor  20  team members to perform at a higher level by giving opportunities  providing timely continuous feedback and working with staff to improve their communication  time management  decision making  organization  and analytical skills      Providing the solutions and services to the client in their own premises with aforesaid count of team members      Also ensuring end to end process of PR   DR as per client requirements  PR  DR   DR  PR  by interacting with internal   external stakeholders      Determining process gaps and designing   conducting training programs to enhance operational efficiency and retain talent by providing optimum opportunities for personal and professional growth  company   Credit Cards description   Ensured highest standard of customer satisfaction and quality service  developing new policies and procedures to improve based on customer feedback and resolving customer queries via correspondence  inbound calls   email channels with the strength of  12 16  Team members  company   AGS Transact Technologies Limited description   Key Contributions  Lead   SPOC to Banks company   TATA Communications Payment Solutions Ltd description   To make ATMs operational within TAT by analyzing the issue is technical or non technical and also by interacting with internal   external stakeholders  company   Vertex Customer Solutions India Private Ltd description   Key Contributions      Build positive working relationship with all team members and clients by keeping Management informed of KYC document collection   con current audit progress  responding timely to Management inquiries  understanding the business and conducting self professionally  company   Financial Inclusion Network   Operations Limited description   Key Contributions  POS Operations     Cascading the adherence of process is strictly followed by team members   training them to reduce the downtime      Managing Stock of EDC Terminals     Managing Deployments of terminals through Multiple teams     Would have worked with multiple terminal make   model     Managing Inward  Outward   QC of applications installed in the POS machines  company   Venture Infotek Private Ltd description   Key Contributions  POS Operations company   Axis Bank Ltd   Customer Services description   Aug 2006 to Oct 2009  Ma Foi I  smart  Designation  Team Leader Executive   Emails  Phone Banking   Correspondence Unit  Snail Mails \",\n          \"Skill Set  Hadoop  Map Reduce  HDFS  Hive  Sqoop  java  Duration  2016 to 2017  Role  Hadoop Developer Rplus offers an quick  simple and powerful cloud based Solution  Demand Sense to a urately predict demand for your product in all your markets which Combines Enterprise and External Data to predict demand more a urately through Uses Social Conversation and Sentiments to derive demand and Identifies significant drivers of sale out of hordes of factors that Selects the best suited model out of multiple forecasting models for each product  Responsibilities      Involved in deploying the product for customers  gathering requirements and algorithm optimization at backend of the product      Load and transform Large Datasets of structured semi structured      Responsible to manage data coming from different sources and application     Supported Map Reduce Programs those are running on the cluster     Involved in creating Hive tables  loading with data and writing hive queries which will run internally in map reduce way Education Details Hadoop Developer Hadoop Developer   Braindatawire Skill Details APACHE HADOOP HDFS  Exprience   49 months APACHE HADOOP SQOOP  Exprience   49 months Hadoop  Exprience   49 months HADOOP  Exprience   49 months HADOOP DISTRIBUTED FILE SYSTEM  Exprience   49 monthsCompany Details company   Braindatawire description   Technical Skills      Programming  Core Java  Map Reduce  Scala     Hadoop Tools  HDFS  Spark  Map Reduce  Sqoop  Hive  Hbase     Database  MySQL  Oracle     Scripting  Shell Scripting     IDE  Eclipse     Operating Systems  Linux  CentOS   Windows     Source Control  Git  Github \",\n          \"IT Skills  Area Exposure Modeling Tool  Bizagi  MS Visio Prototyping Tool  Indigo Studio  Documentation  MS Office  MS Word  MS Excel  MS Power Point  Testing Proficiency  Smoke  Sanity  Integration  Functional  A eptance and UI Methodology implemented  Waterfall  Agile  Scrum  Database  SQL Testing Tool  HPQC Business Exposure Education Details Bachelor Of Computer Engineering Computer Engineering Mumbai  Maharashtra Thadomal Shahani Engineering college Diploma Computer Engineering Ulhasnagar  Maharashtra Institute of Technology Secondary School Certificate Ulhasnagar  Maharashtra New English High School Senior Business Analyst   RPA Senior Business Analyst   RPA   Hexaware Technologies Skill Details DOCUMENTATION  Exprience   47 months TESTING  Exprience   29 months INTEGRATION  Exprience   25 months INTEGRATOR  Exprience   25 months PROTOTYPE  Exprience   13 monthsCompany Details company   Hexaware Technologies description   Working as a RPA Business Analyst company   BBH  Brown Brothers Harriman   Co description   is a private bank that provides commercial banking  investment management  brokerage  and trust services to private companies and individuals  It also performs merger advisory  foreign exchange  custody services  commercial banking  and corporate financing services  Responsibilities      Performed Automation Assessment of various Processes and identified processes which can be candidates of RPA      Conducting Assessment that involves an initial Understanding of the Existing System  their technology  processes  Usage of the tools  Feasibility of tool with automation tool along with automation ROI analysis      Preparing the Automation Potential Sheet which describes the steps in the process  the volume and frequency of the transaction  the AHT taken by SME to perform the process and depending on the steps that could be automated  Automation potential and the manual efforts that will be saved are calculated  Calculating the complexity of the Process which is considered for automation and depending on all these factors Number of Bots and Number of Automation tool Licenses are determined      Implementing a Proof of Concept  POC  to Validate Feasibility by executing the selected critical use cases for conducting a POC which will helps to identify financial and operational benefits and provide recommendations regarding the actual need for complete automation      Gathering business requirements by conducting detailed interviews with business users  stakeholders  and Subject Matter Experts  SME s      Preparing Business Requirement Document and then converted Business requirements into Functional Requirements Specification      Constructing prototype early toward a design a eptable to the customer and feasible      Assisting in designing test plans  test scenarios and test cases for integration  regression  and user a eptance testing  UAT  to improve the overall quality of the Automation      Participating regularly in Walkthroughs and Review meetings with Project Manager  QA Engineers  and Development team      Regularly interacting with offshore and onshore development teams  company   FADV   First Advantage description   is a criminal background check company that delivers global solutions ranging from employment screenings to background checks  The following are the processes which were covered  Email Process  Research Process  Review Process  Responsibilities      Requirement Gathering through conducting Interviews   Brainstorming sessions with stakeholders     To develop decision models and execute those rules as per the use case specifications      To Test validate the decision models against document test data      To maintain and enhance the decision models for changes in regulations as per use case specifications      Responsible for performing the business research that will make a business growth      Developing a clear understanding of existing business functions and processes      Effectively communicate with the onsite clients for the queries  suggestions  and update      Giving suggestions to enhance the current processes      Identifying areas for process improvement      Flagging up potential problems at an early stage      Preparing PowerPoint presentations and documents for business meetings      Using any information gathered to write up detailed reports      Highlighting risks and issues that could impact project delivery      Able to work a urately      To develop and maintain documentation for internal team training and client end user operations      To work efficiently with team members and across teams      To mentor and train junior team members  company   Clinical Testing  Lab Work and Diagnostic Testing description   IQVIA provides services to its customers this includes  Clinical Testing  Lab Work and Diagnostic Testing under clinical trial  These customers need to pay to IQVIA and aging details and invoices are generated for the same  The following are the processes which were covered  Tracking Payments  Automated Real Time Metrics Reporting  Dashboard   Past Due Notifications  AR Statements  Credit Rebill  Responsibilities      Conducting meetings with clients and key stakeholders to gather requirements  analyze  finalize and have formal sign offs from approvers Gather and perform analysis of the business requirements     Translating the business requirements into the Business Requirement Document  BRD   Functional Requirement Document  FRD       Facilitating meetings with the appropriate subject matter experts in both business and technology teams     Coordinating with business user community for the execution of user a eptance test as well as tracking issues     Working  collaborating and coordinating with Offshore and Onsite team members to fulfill the BA responsibilities from project initiation to Post Implementation     Reviewing the test scripts with business users as well as technology team  Execute test scripts with expected results for the System Integration Test  SIT  and User A eptance Test  UAT      Coordinating and conducting the Production A eptance Testing  PAT  with the business users     Creating flow diagrams  structure charts  and other types of system or process representations     Managing changes to requirements and baseline through a change control process     Utilizing standard methods  design and testing tools throughout project development life cycle     Work closely with the operational functional teams  operations management  and personnel  and various technology teams to facilitate a shared understanding of requirements and priorities across all areas company   Eduavenir IT Solution description   Project  M B M S M B M S    is an Inventory management application that allows user to manage inventory details of different warehouses  having different products located at various locations and help extract what goods have been procured  sold or returned by customers  It generates automated invoicesalong withcustomized reports  It also managescustomer complaint and resolution system implementation along with automated MIS on monthly basis Sales and forecastingis also developed on MIS System and the streamlining of process of warehousing and dispatch along with online proof of delivery management system  POD documentation  is generated  Responsibilities      Participate in requirement gathering discussion with client to understand the flow of business processes     Analyze the requirements and determine the core processes  develop Process Documentation and ensure to stay up to date in conjunction with on going changes     Participate in process flow analysis and preparing BRD  SRS      Coordinating with developers  designers   operations teams for various nuances of the project  communicate the stakeholder requirements from requirement  enhancement to implementation and finally deliver the same within estimated timeframe      Support UAT by reviewing test cases  manage version control of documents  software builds      Coordinate with the stakeholders for UAT sign off and coordinate internally for production movement till Golive stage of the application      Provide demo and training to internal and end user using PowerPoint presentation      Resolving project functional  technical issues during UAT      Prioritizing the Production bugs and resolving the same within the estimated timeframe      Preparing Project Status Report and Production Bugs Status to all the stakeholders      Promoting and Networking for online trading platform      Designing query sheet for obtaining and comparison of quotes from various vendors      Development of product codes   material codes for inventory management  Master Data Management  company   CAPGEMINI Head Office description   Type  Mobile and Device Testing  Duration  January 2014   August 2014 Follet   An application which takes an electronic request from the user for the books he requires from a particular follet store  This detailed information about books that will include the name of the book  its price  the date of the transaction and the parties involved which will then be sent to follet stores  User then create request for one or more books for a given date  This request is then processed further and user gets a mail of the date when he will be provided with that book  Responsibilities      Understanding the needs and business requirements      Preparing BRD  SRS by eliciting all the requirements from the client and SMEs     Understanding the dependency of the modules in the system     Preparation of test plan for Unit level and Integration level      Preparation and execution of test cases      Defect tracking  Issue Resolution  Risk Monitoring  Status Tracking  Reporting and Follow up      Preparation of Test Completion report  company   CAPGEMINI Head Office description   company   CAPGEMINI Head Office description   Humana is a health care insurance project of U S  which deals with supplying various medicines to citizens as per the doctor s reference and patient s insurance policy  This application keeps track of all the medicines user has consumed in the past and generates a patient history  A citizen is given a drug only after the doctor s reference so the doctor s information is also linked with the patient s history  Responsibilities      Understanding the requirements and getting clarifications from client      Involved in writing test cases based on test scenarios and execute them      Ensuring Test Coverage using Requirement Traceability Matrix   M      Preparation of Test Completion report  company   CAPGEMINI Head Office description   Testing Trends WQR  World Quality Report  is an application which allows the users to take a survey on different methods and technologies used for testing  Users can choose to answer any type of questions under three different categories  Users have a facility to search  view and export the data to excel  Also  users get daily and weekly reports through email about the new trends in testing implemented around the globe  Testing Trends WQR app is available on Android and IOS platforms  Responsibilities      Understanding the requirements and getting clarifications from client      Writing test cases based on test scenarios and executed them      Performing different types of testing such as Functional  Integration  System  and UAT      Defect resolution and maintenance of the application \"\n        ],\n        \"semantic_type\": \"\",\n        \"description\": \"\"\n      }\n    }\n  ]\n}"
            }
          },
          "metadata": {},
          "execution_count": 20
        }
      ]
    },
    {
      "cell_type": "code",
      "source": [
        "df.Category.unique()"
      ],
      "metadata": {
        "colab": {
          "base_uri": "https://localhost:8080/"
        },
        "id": "C4qOstY53huh",
        "outputId": "27e51f9b-43e2-4805-a020-e88e02b1fccb"
      },
      "execution_count": null,
      "outputs": [
        {
          "output_type": "execute_result",
          "data": {
            "text/plain": [
              "array([ 6, 12,  0,  1, 24, 16, 22, 14,  5, 15,  4, 21,  2, 11, 18, 20,  8,\n",
              "       17, 19,  7, 13, 10,  9,  3, 23])"
            ]
          },
          "metadata": {},
          "execution_count": 21
        }
      ]
    },
    {
      "cell_type": "code",
      "source": [
        "\n",
        "# ['Data Science' 'HR' 'Advocate' 'Arts' 'Web Designing'\n",
        "#  'Mechanical Engineer' 'Sales' 'Health and fitness' 'Civil Engineer'\n",
        "#  'Java Developer' 'Business Analyst' 'SAP Developer' 'Automation Testing'\n",
        "#  'Electrical Engineering' 'Operations Manager' 'Python Developer'\n",
        "#  'DevOps Engineer' 'Network Security Engineer' 'PMO' 'Database' 'Hadoop'\n",
        "#  'ETL Developer' 'DotNet Developer' 'Blockchain' 'Testing']"
      ],
      "metadata": {
        "id": "8nHb9KPg4HQ7"
      },
      "execution_count": null,
      "outputs": []
    },
    {
      "cell_type": "markdown",
      "source": [
        "**Vectorization**"
      ],
      "metadata": {
        "id": "iF_tll7F4n-r"
      }
    },
    {
      "cell_type": "code",
      "source": [
        "from sklearn.feature_extraction.text import TfidfVectorizer\n",
        "tfidf = TfidfVectorizer(stop_words='english')\n",
        "\n",
        "tfidf.fit(df['Resume'])\n",
        "requiredText = tfidf.transform(df['Resume'])"
      ],
      "metadata": {
        "id": "pJqBzn9I42bo"
      },
      "execution_count": null,
      "outputs": []
    },
    {
      "cell_type": "code",
      "source": [
        "df"
      ],
      "metadata": {
        "colab": {
          "base_uri": "https://localhost:8080/",
          "height": 423
        },
        "id": "RMZgQ-Lq5Plt",
        "outputId": "a6f0f238-bf59-4c30-d0b8-c74aefe64850"
      },
      "execution_count": null,
      "outputs": [
        {
          "output_type": "execute_result",
          "data": {
            "text/plain": [
              "     Category                                             Resume\n",
              "0           6  Skills   Programming Languages  Python  pandas...\n",
              "1           6  Education Details May 2013 to May 2017 B E UIT...\n",
              "2           6  Areas of Interest Deep Learning  Control Syste...\n",
              "3           6  Skills     R     Python     SAP HANA     Table...\n",
              "4           6  Education Details MCA YMCAUST  Faridabad  Hary...\n",
              "..        ...                                                ...\n",
              "957        23  Computer Skills      Proficient in MS office  ...\n",
              "958        23      Willingness to a ept the challenges      P...\n",
              "959        23  PERSONAL SKILLS     Quick learner      Eagerne...\n",
              "960        23  COMPUTER SKILLS   SOFTWARE KNOWLEDGE MS Power ...\n",
              "961        23  Skill Set OS Windows XP 7 8 8 1 10 Database MY...\n",
              "\n",
              "[962 rows x 2 columns]"
            ],
            "text/html": [
              "\n",
              "  <div id=\"df-36b47b51-5a00-4d62-8d27-c21522cee3d9\" class=\"colab-df-container\">\n",
              "    <div>\n",
              "<style scoped>\n",
              "    .dataframe tbody tr th:only-of-type {\n",
              "        vertical-align: middle;\n",
              "    }\n",
              "\n",
              "    .dataframe tbody tr th {\n",
              "        vertical-align: top;\n",
              "    }\n",
              "\n",
              "    .dataframe thead th {\n",
              "        text-align: right;\n",
              "    }\n",
              "</style>\n",
              "<table border=\"1\" class=\"dataframe\">\n",
              "  <thead>\n",
              "    <tr style=\"text-align: right;\">\n",
              "      <th></th>\n",
              "      <th>Category</th>\n",
              "      <th>Resume</th>\n",
              "    </tr>\n",
              "  </thead>\n",
              "  <tbody>\n",
              "    <tr>\n",
              "      <th>0</th>\n",
              "      <td>6</td>\n",
              "      <td>Skills   Programming Languages  Python  pandas...</td>\n",
              "    </tr>\n",
              "    <tr>\n",
              "      <th>1</th>\n",
              "      <td>6</td>\n",
              "      <td>Education Details May 2013 to May 2017 B E UIT...</td>\n",
              "    </tr>\n",
              "    <tr>\n",
              "      <th>2</th>\n",
              "      <td>6</td>\n",
              "      <td>Areas of Interest Deep Learning  Control Syste...</td>\n",
              "    </tr>\n",
              "    <tr>\n",
              "      <th>3</th>\n",
              "      <td>6</td>\n",
              "      <td>Skills     R     Python     SAP HANA     Table...</td>\n",
              "    </tr>\n",
              "    <tr>\n",
              "      <th>4</th>\n",
              "      <td>6</td>\n",
              "      <td>Education Details MCA YMCAUST  Faridabad  Hary...</td>\n",
              "    </tr>\n",
              "    <tr>\n",
              "      <th>...</th>\n",
              "      <td>...</td>\n",
              "      <td>...</td>\n",
              "    </tr>\n",
              "    <tr>\n",
              "      <th>957</th>\n",
              "      <td>23</td>\n",
              "      <td>Computer Skills      Proficient in MS office  ...</td>\n",
              "    </tr>\n",
              "    <tr>\n",
              "      <th>958</th>\n",
              "      <td>23</td>\n",
              "      <td>Willingness to a ept the challenges      P...</td>\n",
              "    </tr>\n",
              "    <tr>\n",
              "      <th>959</th>\n",
              "      <td>23</td>\n",
              "      <td>PERSONAL SKILLS     Quick learner      Eagerne...</td>\n",
              "    </tr>\n",
              "    <tr>\n",
              "      <th>960</th>\n",
              "      <td>23</td>\n",
              "      <td>COMPUTER SKILLS   SOFTWARE KNOWLEDGE MS Power ...</td>\n",
              "    </tr>\n",
              "    <tr>\n",
              "      <th>961</th>\n",
              "      <td>23</td>\n",
              "      <td>Skill Set OS Windows XP 7 8 8 1 10 Database MY...</td>\n",
              "    </tr>\n",
              "  </tbody>\n",
              "</table>\n",
              "<p>962 rows × 2 columns</p>\n",
              "</div>\n",
              "    <div class=\"colab-df-buttons\">\n",
              "\n",
              "  <div class=\"colab-df-container\">\n",
              "    <button class=\"colab-df-convert\" onclick=\"convertToInteractive('df-36b47b51-5a00-4d62-8d27-c21522cee3d9')\"\n",
              "            title=\"Convert this dataframe to an interactive table.\"\n",
              "            style=\"display:none;\">\n",
              "\n",
              "  <svg xmlns=\"http://www.w3.org/2000/svg\" height=\"24px\" viewBox=\"0 -960 960 960\">\n",
              "    <path d=\"M120-120v-720h720v720H120Zm60-500h600v-160H180v160Zm220 220h160v-160H400v160Zm0 220h160v-160H400v160ZM180-400h160v-160H180v160Zm440 0h160v-160H620v160ZM180-180h160v-160H180v160Zm440 0h160v-160H620v160Z\"/>\n",
              "  </svg>\n",
              "    </button>\n",
              "\n",
              "  <style>\n",
              "    .colab-df-container {\n",
              "      display:flex;\n",
              "      gap: 12px;\n",
              "    }\n",
              "\n",
              "    .colab-df-convert {\n",
              "      background-color: #E8F0FE;\n",
              "      border: none;\n",
              "      border-radius: 50%;\n",
              "      cursor: pointer;\n",
              "      display: none;\n",
              "      fill: #1967D2;\n",
              "      height: 32px;\n",
              "      padding: 0 0 0 0;\n",
              "      width: 32px;\n",
              "    }\n",
              "\n",
              "    .colab-df-convert:hover {\n",
              "      background-color: #E2EBFA;\n",
              "      box-shadow: 0px 1px 2px rgba(60, 64, 67, 0.3), 0px 1px 3px 1px rgba(60, 64, 67, 0.15);\n",
              "      fill: #174EA6;\n",
              "    }\n",
              "\n",
              "    .colab-df-buttons div {\n",
              "      margin-bottom: 4px;\n",
              "    }\n",
              "\n",
              "    [theme=dark] .colab-df-convert {\n",
              "      background-color: #3B4455;\n",
              "      fill: #D2E3FC;\n",
              "    }\n",
              "\n",
              "    [theme=dark] .colab-df-convert:hover {\n",
              "      background-color: #434B5C;\n",
              "      box-shadow: 0px 1px 3px 1px rgba(0, 0, 0, 0.15);\n",
              "      filter: drop-shadow(0px 1px 2px rgba(0, 0, 0, 0.3));\n",
              "      fill: #FFFFFF;\n",
              "    }\n",
              "  </style>\n",
              "\n",
              "    <script>\n",
              "      const buttonEl =\n",
              "        document.querySelector('#df-36b47b51-5a00-4d62-8d27-c21522cee3d9 button.colab-df-convert');\n",
              "      buttonEl.style.display =\n",
              "        google.colab.kernel.accessAllowed ? 'block' : 'none';\n",
              "\n",
              "      async function convertToInteractive(key) {\n",
              "        const element = document.querySelector('#df-36b47b51-5a00-4d62-8d27-c21522cee3d9');\n",
              "        const dataTable =\n",
              "          await google.colab.kernel.invokeFunction('convertToInteractive',\n",
              "                                                    [key], {});\n",
              "        if (!dataTable) return;\n",
              "\n",
              "        const docLinkHtml = 'Like what you see? Visit the ' +\n",
              "          '<a target=\"_blank\" href=https://colab.research.google.com/notebooks/data_table.ipynb>data table notebook</a>'\n",
              "          + ' to learn more about interactive tables.';\n",
              "        element.innerHTML = '';\n",
              "        dataTable['output_type'] = 'display_data';\n",
              "        await google.colab.output.renderOutput(dataTable, element);\n",
              "        const docLink = document.createElement('div');\n",
              "        docLink.innerHTML = docLinkHtml;\n",
              "        element.appendChild(docLink);\n",
              "      }\n",
              "    </script>\n",
              "  </div>\n",
              "\n",
              "\n",
              "<div id=\"df-7c1681bd-edcc-4a00-8661-8808cf6b3bee\">\n",
              "  <button class=\"colab-df-quickchart\" onclick=\"quickchart('df-7c1681bd-edcc-4a00-8661-8808cf6b3bee')\"\n",
              "            title=\"Suggest charts\"\n",
              "            style=\"display:none;\">\n",
              "\n",
              "<svg xmlns=\"http://www.w3.org/2000/svg\" height=\"24px\"viewBox=\"0 0 24 24\"\n",
              "     width=\"24px\">\n",
              "    <g>\n",
              "        <path d=\"M19 3H5c-1.1 0-2 .9-2 2v14c0 1.1.9 2 2 2h14c1.1 0 2-.9 2-2V5c0-1.1-.9-2-2-2zM9 17H7v-7h2v7zm4 0h-2V7h2v10zm4 0h-2v-4h2v4z\"/>\n",
              "    </g>\n",
              "</svg>\n",
              "  </button>\n",
              "\n",
              "<style>\n",
              "  .colab-df-quickchart {\n",
              "      --bg-color: #E8F0FE;\n",
              "      --fill-color: #1967D2;\n",
              "      --hover-bg-color: #E2EBFA;\n",
              "      --hover-fill-color: #174EA6;\n",
              "      --disabled-fill-color: #AAA;\n",
              "      --disabled-bg-color: #DDD;\n",
              "  }\n",
              "\n",
              "  [theme=dark] .colab-df-quickchart {\n",
              "      --bg-color: #3B4455;\n",
              "      --fill-color: #D2E3FC;\n",
              "      --hover-bg-color: #434B5C;\n",
              "      --hover-fill-color: #FFFFFF;\n",
              "      --disabled-bg-color: #3B4455;\n",
              "      --disabled-fill-color: #666;\n",
              "  }\n",
              "\n",
              "  .colab-df-quickchart {\n",
              "    background-color: var(--bg-color);\n",
              "    border: none;\n",
              "    border-radius: 50%;\n",
              "    cursor: pointer;\n",
              "    display: none;\n",
              "    fill: var(--fill-color);\n",
              "    height: 32px;\n",
              "    padding: 0;\n",
              "    width: 32px;\n",
              "  }\n",
              "\n",
              "  .colab-df-quickchart:hover {\n",
              "    background-color: var(--hover-bg-color);\n",
              "    box-shadow: 0 1px 2px rgba(60, 64, 67, 0.3), 0 1px 3px 1px rgba(60, 64, 67, 0.15);\n",
              "    fill: var(--button-hover-fill-color);\n",
              "  }\n",
              "\n",
              "  .colab-df-quickchart-complete:disabled,\n",
              "  .colab-df-quickchart-complete:disabled:hover {\n",
              "    background-color: var(--disabled-bg-color);\n",
              "    fill: var(--disabled-fill-color);\n",
              "    box-shadow: none;\n",
              "  }\n",
              "\n",
              "  .colab-df-spinner {\n",
              "    border: 2px solid var(--fill-color);\n",
              "    border-color: transparent;\n",
              "    border-bottom-color: var(--fill-color);\n",
              "    animation:\n",
              "      spin 1s steps(1) infinite;\n",
              "  }\n",
              "\n",
              "  @keyframes spin {\n",
              "    0% {\n",
              "      border-color: transparent;\n",
              "      border-bottom-color: var(--fill-color);\n",
              "      border-left-color: var(--fill-color);\n",
              "    }\n",
              "    20% {\n",
              "      border-color: transparent;\n",
              "      border-left-color: var(--fill-color);\n",
              "      border-top-color: var(--fill-color);\n",
              "    }\n",
              "    30% {\n",
              "      border-color: transparent;\n",
              "      border-left-color: var(--fill-color);\n",
              "      border-top-color: var(--fill-color);\n",
              "      border-right-color: var(--fill-color);\n",
              "    }\n",
              "    40% {\n",
              "      border-color: transparent;\n",
              "      border-right-color: var(--fill-color);\n",
              "      border-top-color: var(--fill-color);\n",
              "    }\n",
              "    60% {\n",
              "      border-color: transparent;\n",
              "      border-right-color: var(--fill-color);\n",
              "    }\n",
              "    80% {\n",
              "      border-color: transparent;\n",
              "      border-right-color: var(--fill-color);\n",
              "      border-bottom-color: var(--fill-color);\n",
              "    }\n",
              "    90% {\n",
              "      border-color: transparent;\n",
              "      border-bottom-color: var(--fill-color);\n",
              "    }\n",
              "  }\n",
              "</style>\n",
              "\n",
              "  <script>\n",
              "    async function quickchart(key) {\n",
              "      const quickchartButtonEl =\n",
              "        document.querySelector('#' + key + ' button');\n",
              "      quickchartButtonEl.disabled = true;  // To prevent multiple clicks.\n",
              "      quickchartButtonEl.classList.add('colab-df-spinner');\n",
              "      try {\n",
              "        const charts = await google.colab.kernel.invokeFunction(\n",
              "            'suggestCharts', [key], {});\n",
              "      } catch (error) {\n",
              "        console.error('Error during call to suggestCharts:', error);\n",
              "      }\n",
              "      quickchartButtonEl.classList.remove('colab-df-spinner');\n",
              "      quickchartButtonEl.classList.add('colab-df-quickchart-complete');\n",
              "    }\n",
              "    (() => {\n",
              "      let quickchartButtonEl =\n",
              "        document.querySelector('#df-7c1681bd-edcc-4a00-8661-8808cf6b3bee button');\n",
              "      quickchartButtonEl.style.display =\n",
              "        google.colab.kernel.accessAllowed ? 'block' : 'none';\n",
              "    })();\n",
              "  </script>\n",
              "</div>\n",
              "\n",
              "  <div id=\"id_6f4f4e47-9d3d-4ffa-8be1-bbfcefd799de\">\n",
              "    <style>\n",
              "      .colab-df-generate {\n",
              "        background-color: #E8F0FE;\n",
              "        border: none;\n",
              "        border-radius: 50%;\n",
              "        cursor: pointer;\n",
              "        display: none;\n",
              "        fill: #1967D2;\n",
              "        height: 32px;\n",
              "        padding: 0 0 0 0;\n",
              "        width: 32px;\n",
              "      }\n",
              "\n",
              "      .colab-df-generate:hover {\n",
              "        background-color: #E2EBFA;\n",
              "        box-shadow: 0px 1px 2px rgba(60, 64, 67, 0.3), 0px 1px 3px 1px rgba(60, 64, 67, 0.15);\n",
              "        fill: #174EA6;\n",
              "      }\n",
              "\n",
              "      [theme=dark] .colab-df-generate {\n",
              "        background-color: #3B4455;\n",
              "        fill: #D2E3FC;\n",
              "      }\n",
              "\n",
              "      [theme=dark] .colab-df-generate:hover {\n",
              "        background-color: #434B5C;\n",
              "        box-shadow: 0px 1px 3px 1px rgba(0, 0, 0, 0.15);\n",
              "        filter: drop-shadow(0px 1px 2px rgba(0, 0, 0, 0.3));\n",
              "        fill: #FFFFFF;\n",
              "      }\n",
              "    </style>\n",
              "    <button class=\"colab-df-generate\" onclick=\"generateWithVariable('df')\"\n",
              "            title=\"Generate code using this dataframe.\"\n",
              "            style=\"display:none;\">\n",
              "\n",
              "  <svg xmlns=\"http://www.w3.org/2000/svg\" height=\"24px\"viewBox=\"0 0 24 24\"\n",
              "       width=\"24px\">\n",
              "    <path d=\"M7,19H8.4L18.45,9,17,7.55,7,17.6ZM5,21V16.75L18.45,3.32a2,2,0,0,1,2.83,0l1.4,1.43a1.91,1.91,0,0,1,.58,1.4,1.91,1.91,0,0,1-.58,1.4L9.25,21ZM18.45,9,17,7.55Zm-12,3A5.31,5.31,0,0,0,4.9,8.1,5.31,5.31,0,0,0,1,6.5,5.31,5.31,0,0,0,4.9,4.9,5.31,5.31,0,0,0,6.5,1,5.31,5.31,0,0,0,8.1,4.9,5.31,5.31,0,0,0,12,6.5,5.46,5.46,0,0,0,6.5,12Z\"/>\n",
              "  </svg>\n",
              "    </button>\n",
              "    <script>\n",
              "      (() => {\n",
              "      const buttonEl =\n",
              "        document.querySelector('#id_6f4f4e47-9d3d-4ffa-8be1-bbfcefd799de button.colab-df-generate');\n",
              "      buttonEl.style.display =\n",
              "        google.colab.kernel.accessAllowed ? 'block' : 'none';\n",
              "\n",
              "      buttonEl.onclick = () => {\n",
              "        google.colab.notebook.generateWithVariable('df');\n",
              "      }\n",
              "      })();\n",
              "    </script>\n",
              "  </div>\n",
              "\n",
              "    </div>\n",
              "  </div>\n"
            ],
            "application/vnd.google.colaboratory.intrinsic+json": {
              "type": "dataframe",
              "variable_name": "df",
              "summary": "{\n  \"name\": \"df\",\n  \"rows\": 962,\n  \"fields\": [\n    {\n      \"column\": \"Category\",\n      \"properties\": {\n        \"dtype\": \"number\",\n        \"std\": 7,\n        \"min\": 0,\n        \"max\": 24,\n        \"num_unique_values\": 25,\n        \"samples\": [\n          5,\n          8,\n          6\n        ],\n        \"semantic_type\": \"\",\n        \"description\": \"\"\n      }\n    },\n    {\n      \"column\": \"Resume\",\n      \"properties\": {\n        \"dtype\": \"category\",\n        \"num_unique_values\": 166,\n        \"samples\": [\n          \"KEY COMPETENCIES    Multi   Operations Management   People Management    Customer Services   Emails     MIS    Vendor   Client Services Management   Cross Functional Coordination   Banking   Financial Services    Transaction Monitoring   ATM Operations       Prepaid Card Operations  Pre Issuance   Post Issuance      POS Operations   JOB PROFILE   SKILLS      An effective communicator with excellent relationship building   interpersonal skills  Strong analytical  problem solving   organizational abilities      Extensive experience in managing operations with demonstrated leadership qualities   organisational skills during the tenure      Managing customer centric operations   ensuring customer satisfaction by achieving service quality norms      Analyzing of all operational problems  customer complaints and take preventive and corrective actions to resolve the same      Receive and respond to Key customer inquiries in an effective manner and provide relevant and timely information      Deft in steering banking back end operations  analyzing risks and managing delinquencies with dexterity across applying techniques for maximizing recoveries and minimizing credit losses      Analyzed   identified training needs of the team members and developing  organizing and conducting training programs and manage bottom quartile team to improve their performance      Preparing and maintaining daily MIS reports to evaluate the performance and efficiency of the process relate to various verticals      Measuring the performance of the processes in terms of efficiency and effectiveness matrix and ensuring adherence to SLA      Major Activities Define processes for Field Services were monitored and necessary checks were executed and controlled  Also measured Vendor SLA by analyzing the TAT of vendors   the Client SLA provided to us      As per company procedures  handling   ensuring vendor s payment issues to be sorted out  payments are processed on quarterly basis      Appropriately plan and execute each skill of operations in a ordance with the department s policies and procedures      Manage relationships with business team  software development team and other services to achieve project objectives  Different software Worked till now    a  CTL prime   Axis Bank Credit Cards b  Insight   For POS Machine technical operations for Amex  MID   TID Generation  ATOS  Venture Infotek  c  Ticket Management System   TATA Communications Private Services Ltd  ATM   NOC Operations  d  Branch Portal  Yalamanchili Software Exports Ltd    Prepaid Cards  SBI Bank   Zaggle Prepaid Oceans Services Ltd  Zaggle Prepaid Ocean Services Pvt Ltd Oct  2017 to Till Date Designation  Manager   Operations  Payment Industry   Prepaid Cards   INR  Education Details Commerce Mumbai  Maharashtra Mumbai University Operations Manager Service Manager   Operations  Payment Industry   Prepaid Cards   INR   FTC  Skill Details OPERATIONS  Exprience   73 months SATISFACTION  Exprience   48 months TRAINING  Exprience   24 months NOC  Exprience   23 months POINT OF SALE  Exprience   20 monthsCompany Details company   Zaggle Prepaid Ocean Services Pvt Ltd description   Card Operations company   Yalamanchili Software Exports Ltd description   24 7 Operations Pvt Ltd  Dec 2015 to Feb 2017 Designation  Service Manager   Operations  Payment Industry   Prepaid Cards   INR   FTC  Key Contributions      A result oriented business professional in planning  executing  managing processes  improving efficiency of operations  team building and detailing process information to determine effective result into operations      Ensuring PINs generation  SLA  is maintained and chargeback cases are raised in perfect timeframe      Managing email customer services properly and ensuring the emails are replied properly  Also  ensuring transaction monitoring is properly managed 24 7      Assisting Bankers  SBI   Associated Banks  for their BCP plans by getting executed in the system with the help of DR PR plans   vice versa or any other business requirements      Expertise in maintaining highest level of quality in operations  ensuring adherence to all the quality parameters and procedures as per the stringent norms      Lead  manage and supervise the execution of external audit engagements and responsible for presenting the findings   developing a quality reports to the senior Management and Clients      Coach mentor  20  team members to perform at a higher level by giving opportunities  providing timely continuous feedback and working with staff to improve their communication  time management  decision making  organization  and analytical skills      Providing the solutions and services to the client in their own premises with aforesaid count of team members      Also ensuring end to end process of PR   DR as per client requirements  PR  DR   DR  PR  by interacting with internal   external stakeholders      Determining process gaps and designing   conducting training programs to enhance operational efficiency and retain talent by providing optimum opportunities for personal and professional growth  company   Credit Cards description   Ensured highest standard of customer satisfaction and quality service  developing new policies and procedures to improve based on customer feedback and resolving customer queries via correspondence  inbound calls   email channels with the strength of  12 16  Team members  company   AGS Transact Technologies Limited description   Key Contributions  Lead   SPOC to Banks company   TATA Communications Payment Solutions Ltd description   To make ATMs operational within TAT by analyzing the issue is technical or non technical and also by interacting with internal   external stakeholders  company   Vertex Customer Solutions India Private Ltd description   Key Contributions      Build positive working relationship with all team members and clients by keeping Management informed of KYC document collection   con current audit progress  responding timely to Management inquiries  understanding the business and conducting self professionally  company   Financial Inclusion Network   Operations Limited description   Key Contributions  POS Operations     Cascading the adherence of process is strictly followed by team members   training them to reduce the downtime      Managing Stock of EDC Terminals     Managing Deployments of terminals through Multiple teams     Would have worked with multiple terminal make   model     Managing Inward  Outward   QC of applications installed in the POS machines  company   Venture Infotek Private Ltd description   Key Contributions  POS Operations company   Axis Bank Ltd   Customer Services description   Aug 2006 to Oct 2009  Ma Foi I  smart  Designation  Team Leader Executive   Emails  Phone Banking   Correspondence Unit  Snail Mails \",\n          \"Skill Set  Hadoop  Map Reduce  HDFS  Hive  Sqoop  java  Duration  2016 to 2017  Role  Hadoop Developer Rplus offers an quick  simple and powerful cloud based Solution  Demand Sense to a urately predict demand for your product in all your markets which Combines Enterprise and External Data to predict demand more a urately through Uses Social Conversation and Sentiments to derive demand and Identifies significant drivers of sale out of hordes of factors that Selects the best suited model out of multiple forecasting models for each product  Responsibilities      Involved in deploying the product for customers  gathering requirements and algorithm optimization at backend of the product      Load and transform Large Datasets of structured semi structured      Responsible to manage data coming from different sources and application     Supported Map Reduce Programs those are running on the cluster     Involved in creating Hive tables  loading with data and writing hive queries which will run internally in map reduce way Education Details Hadoop Developer Hadoop Developer   Braindatawire Skill Details APACHE HADOOP HDFS  Exprience   49 months APACHE HADOOP SQOOP  Exprience   49 months Hadoop  Exprience   49 months HADOOP  Exprience   49 months HADOOP DISTRIBUTED FILE SYSTEM  Exprience   49 monthsCompany Details company   Braindatawire description   Technical Skills      Programming  Core Java  Map Reduce  Scala     Hadoop Tools  HDFS  Spark  Map Reduce  Sqoop  Hive  Hbase     Database  MySQL  Oracle     Scripting  Shell Scripting     IDE  Eclipse     Operating Systems  Linux  CentOS   Windows     Source Control  Git  Github \",\n          \"IT Skills  Area Exposure Modeling Tool  Bizagi  MS Visio Prototyping Tool  Indigo Studio  Documentation  MS Office  MS Word  MS Excel  MS Power Point  Testing Proficiency  Smoke  Sanity  Integration  Functional  A eptance and UI Methodology implemented  Waterfall  Agile  Scrum  Database  SQL Testing Tool  HPQC Business Exposure Education Details Bachelor Of Computer Engineering Computer Engineering Mumbai  Maharashtra Thadomal Shahani Engineering college Diploma Computer Engineering Ulhasnagar  Maharashtra Institute of Technology Secondary School Certificate Ulhasnagar  Maharashtra New English High School Senior Business Analyst   RPA Senior Business Analyst   RPA   Hexaware Technologies Skill Details DOCUMENTATION  Exprience   47 months TESTING  Exprience   29 months INTEGRATION  Exprience   25 months INTEGRATOR  Exprience   25 months PROTOTYPE  Exprience   13 monthsCompany Details company   Hexaware Technologies description   Working as a RPA Business Analyst company   BBH  Brown Brothers Harriman   Co description   is a private bank that provides commercial banking  investment management  brokerage  and trust services to private companies and individuals  It also performs merger advisory  foreign exchange  custody services  commercial banking  and corporate financing services  Responsibilities      Performed Automation Assessment of various Processes and identified processes which can be candidates of RPA      Conducting Assessment that involves an initial Understanding of the Existing System  their technology  processes  Usage of the tools  Feasibility of tool with automation tool along with automation ROI analysis      Preparing the Automation Potential Sheet which describes the steps in the process  the volume and frequency of the transaction  the AHT taken by SME to perform the process and depending on the steps that could be automated  Automation potential and the manual efforts that will be saved are calculated  Calculating the complexity of the Process which is considered for automation and depending on all these factors Number of Bots and Number of Automation tool Licenses are determined      Implementing a Proof of Concept  POC  to Validate Feasibility by executing the selected critical use cases for conducting a POC which will helps to identify financial and operational benefits and provide recommendations regarding the actual need for complete automation      Gathering business requirements by conducting detailed interviews with business users  stakeholders  and Subject Matter Experts  SME s      Preparing Business Requirement Document and then converted Business requirements into Functional Requirements Specification      Constructing prototype early toward a design a eptable to the customer and feasible      Assisting in designing test plans  test scenarios and test cases for integration  regression  and user a eptance testing  UAT  to improve the overall quality of the Automation      Participating regularly in Walkthroughs and Review meetings with Project Manager  QA Engineers  and Development team      Regularly interacting with offshore and onshore development teams  company   FADV   First Advantage description   is a criminal background check company that delivers global solutions ranging from employment screenings to background checks  The following are the processes which were covered  Email Process  Research Process  Review Process  Responsibilities      Requirement Gathering through conducting Interviews   Brainstorming sessions with stakeholders     To develop decision models and execute those rules as per the use case specifications      To Test validate the decision models against document test data      To maintain and enhance the decision models for changes in regulations as per use case specifications      Responsible for performing the business research that will make a business growth      Developing a clear understanding of existing business functions and processes      Effectively communicate with the onsite clients for the queries  suggestions  and update      Giving suggestions to enhance the current processes      Identifying areas for process improvement      Flagging up potential problems at an early stage      Preparing PowerPoint presentations and documents for business meetings      Using any information gathered to write up detailed reports      Highlighting risks and issues that could impact project delivery      Able to work a urately      To develop and maintain documentation for internal team training and client end user operations      To work efficiently with team members and across teams      To mentor and train junior team members  company   Clinical Testing  Lab Work and Diagnostic Testing description   IQVIA provides services to its customers this includes  Clinical Testing  Lab Work and Diagnostic Testing under clinical trial  These customers need to pay to IQVIA and aging details and invoices are generated for the same  The following are the processes which were covered  Tracking Payments  Automated Real Time Metrics Reporting  Dashboard   Past Due Notifications  AR Statements  Credit Rebill  Responsibilities      Conducting meetings with clients and key stakeholders to gather requirements  analyze  finalize and have formal sign offs from approvers Gather and perform analysis of the business requirements     Translating the business requirements into the Business Requirement Document  BRD   Functional Requirement Document  FRD       Facilitating meetings with the appropriate subject matter experts in both business and technology teams     Coordinating with business user community for the execution of user a eptance test as well as tracking issues     Working  collaborating and coordinating with Offshore and Onsite team members to fulfill the BA responsibilities from project initiation to Post Implementation     Reviewing the test scripts with business users as well as technology team  Execute test scripts with expected results for the System Integration Test  SIT  and User A eptance Test  UAT      Coordinating and conducting the Production A eptance Testing  PAT  with the business users     Creating flow diagrams  structure charts  and other types of system or process representations     Managing changes to requirements and baseline through a change control process     Utilizing standard methods  design and testing tools throughout project development life cycle     Work closely with the operational functional teams  operations management  and personnel  and various technology teams to facilitate a shared understanding of requirements and priorities across all areas company   Eduavenir IT Solution description   Project  M B M S M B M S    is an Inventory management application that allows user to manage inventory details of different warehouses  having different products located at various locations and help extract what goods have been procured  sold or returned by customers  It generates automated invoicesalong withcustomized reports  It also managescustomer complaint and resolution system implementation along with automated MIS on monthly basis Sales and forecastingis also developed on MIS System and the streamlining of process of warehousing and dispatch along with online proof of delivery management system  POD documentation  is generated  Responsibilities      Participate in requirement gathering discussion with client to understand the flow of business processes     Analyze the requirements and determine the core processes  develop Process Documentation and ensure to stay up to date in conjunction with on going changes     Participate in process flow analysis and preparing BRD  SRS      Coordinating with developers  designers   operations teams for various nuances of the project  communicate the stakeholder requirements from requirement  enhancement to implementation and finally deliver the same within estimated timeframe      Support UAT by reviewing test cases  manage version control of documents  software builds      Coordinate with the stakeholders for UAT sign off and coordinate internally for production movement till Golive stage of the application      Provide demo and training to internal and end user using PowerPoint presentation      Resolving project functional  technical issues during UAT      Prioritizing the Production bugs and resolving the same within the estimated timeframe      Preparing Project Status Report and Production Bugs Status to all the stakeholders      Promoting and Networking for online trading platform      Designing query sheet for obtaining and comparison of quotes from various vendors      Development of product codes   material codes for inventory management  Master Data Management  company   CAPGEMINI Head Office description   Type  Mobile and Device Testing  Duration  January 2014   August 2014 Follet   An application which takes an electronic request from the user for the books he requires from a particular follet store  This detailed information about books that will include the name of the book  its price  the date of the transaction and the parties involved which will then be sent to follet stores  User then create request for one or more books for a given date  This request is then processed further and user gets a mail of the date when he will be provided with that book  Responsibilities      Understanding the needs and business requirements      Preparing BRD  SRS by eliciting all the requirements from the client and SMEs     Understanding the dependency of the modules in the system     Preparation of test plan for Unit level and Integration level      Preparation and execution of test cases      Defect tracking  Issue Resolution  Risk Monitoring  Status Tracking  Reporting and Follow up      Preparation of Test Completion report  company   CAPGEMINI Head Office description   company   CAPGEMINI Head Office description   Humana is a health care insurance project of U S  which deals with supplying various medicines to citizens as per the doctor s reference and patient s insurance policy  This application keeps track of all the medicines user has consumed in the past and generates a patient history  A citizen is given a drug only after the doctor s reference so the doctor s information is also linked with the patient s history  Responsibilities      Understanding the requirements and getting clarifications from client      Involved in writing test cases based on test scenarios and execute them      Ensuring Test Coverage using Requirement Traceability Matrix   M      Preparation of Test Completion report  company   CAPGEMINI Head Office description   Testing Trends WQR  World Quality Report  is an application which allows the users to take a survey on different methods and technologies used for testing  Users can choose to answer any type of questions under three different categories  Users have a facility to search  view and export the data to excel  Also  users get daily and weekly reports through email about the new trends in testing implemented around the globe  Testing Trends WQR app is available on Android and IOS platforms  Responsibilities      Understanding the requirements and getting clarifications from client      Writing test cases based on test scenarios and executed them      Performing different types of testing such as Functional  Integration  System  and UAT      Defect resolution and maintenance of the application \"\n        ],\n        \"semantic_type\": \"\",\n        \"description\": \"\"\n      }\n    }\n  ]\n}"
            }
          },
          "metadata": {},
          "execution_count": 23
        }
      ]
    },
    {
      "cell_type": "markdown",
      "source": [
        "**Splitting**\n"
      ],
      "metadata": {
        "id": "rpuO3-KWkfZC"
      }
    },
    {
      "cell_type": "code",
      "source": [
        "from sklearn.model_selection import train_test_split\n",
        "X_train, X_test, y_train, y_test = train_test_split(requiredText, df['Category'], test_size=0.2, random_state=42)"
      ],
      "metadata": {
        "id": "03Dce5OehLSP"
      },
      "execution_count": null,
      "outputs": []
    },
    {
      "cell_type": "code",
      "source": [
        "print(X_train.shape)\n",
        "print(X_test.shape)"
      ],
      "metadata": {
        "colab": {
          "base_uri": "https://localhost:8080/"
        },
        "id": "v1CF0rXnisKN",
        "outputId": "f0e93d7a-d358-4748-aa06-9a375b7fd16a"
      },
      "execution_count": null,
      "outputs": [
        {
          "output_type": "stream",
          "name": "stdout",
          "text": [
            "(769, 7351)\n",
            "(193, 7351)\n"
          ]
        }
      ]
    },
    {
      "cell_type": "markdown",
      "source": [
        "**Prediction System**"
      ],
      "metadata": {
        "id": "RJ2VDXw9knZf"
      }
    },
    {
      "cell_type": "code",
      "source": [
        "from sklearn.neighbors import KNeighborsClassifier\n",
        "from sklearn.multiclass import OneVsRestClassifier\n",
        "from sklearn.metrics import accuracy_score\n",
        "\n",
        "clf = KNeighborsClassifier()\n",
        "clf.fit(X_train,y_train)\n",
        "ypred = clf.predict(X_test)\n",
        "print(accuracy_score(y_test,ypred))"
      ],
      "metadata": {
        "colab": {
          "base_uri": "https://localhost:8080/"
        },
        "id": "e5ikajBqjIqg",
        "outputId": "fe70d39d-3312-4a3d-f7b0-38e854e91631"
      },
      "execution_count": null,
      "outputs": [
        {
          "output_type": "stream",
          "name": "stdout",
          "text": [
            "0.9844559585492227\n"
          ]
        }
      ]
    },
    {
      "cell_type": "code",
      "source": [
        "import pickle\n",
        "pickle.dump(tfidf,open('tfidf.pkl','wb'))\n",
        "pickle.dump(clf,open('clf.pkl','wb'))"
      ],
      "metadata": {
        "id": "RUoeNPKxv5Ya"
      },
      "execution_count": null,
      "outputs": []
    },
    {
      "cell_type": "code",
      "source": [
        "myResume = \"\"\"Atul Singh | L i n k e d I n\n",
        " atulbola8@gmail.com | +91- 9649051211\n",
        "ELECTRICAL ENGG. (B.Tech 4Y)\n",
        "EDUCATION\n",
        "Year Degree/Exam Institute CGPA/Marks\n",
        "2024 B.TECH IIT Kharagpur 6.75 / 10\n",
        "2019 Senior Secondary School Certificate Choudhary Gharsiram Public School 81.6%\n",
        "2017 Secondary School Certificate Smt. Kunani Bola Memorial Pub School 10 / 10\n",
        "AWARDS AND ACHIEVEMENTS\n",
        "• Featured in Forbes India magazine for exemplary performance as top 10 (Rank 7) College Champion of IIT Kharagpur by Unstop in 2023\n",
        "• Secured Gold Medal in Open IIT Product management competition conducted by Technology Students’ Gymkhana, IIT Kharagpur in 2023\n",
        "Product management Intern | Eleqzee Energy Solutions Mar’23 - Jul’23\n",
        "Pioneered safety innovation with a stand-down sensor for two-wheelers through strategic implementation on existing models\n",
        "• Conducted a comprehensive competitive analysis of top 5 prominent players in the electric vehicle industry evaluating various solutions\n",
        "• Tested idea of a safety solution for two-wheelers as a stand-down sensor preventing motor engagement, to boost vehicles' safety by 30%\n",
        "• Critiqued astute risk analysis to anticipate potential issues and develop innovative strategies with practical implementation on old bike\n",
        "Project Management Intern | Banao Technologies Jan’23 - Apr’23\n",
        "Completed two projects of website and app development using agile software development and ensuring client satisfaction\n",
        "• Mastered 2-week project management training, adeptly steering Software development lifecycle management using agile methodology\n",
        "• Executed end-to-end project fruition, mapping strategies, capably utilizing Figma, ClickUp, to complete 2 web/app development projects\n",
        "• Led 10+ member cross-functional team; adeptly defined sprints, milestones, and roadmaps, ensuring client's contentment using Kanban\n",
        "Product Management Intern | MasterTag Nov’22 - Jan’23\n",
        "Revamped MasterTag's website, elevating UX/UI for 60% user engagement boost and driving 10% sales growth in E-commerce\n",
        "• Enhanced MasterTag’s website functionality through UI/UX improvements, driving user engagement and experience increase by 60%\n",
        "• Optimized delivery processes, ensuring seamless customer experience by coordinating cross-functional teams and refining logistics\n",
        "• Earned valuable E-commerce insights by actively contributing to streamlining operations, expanding sales of MasterTag products by 10%\n",
        "National Finals | KPMG Ideation Challenge 2022 Oct'21 - Apr'22\n",
        "• Made into National Finals of KIC’22, competing with 14,000+ students across India guided by KPMG US Director Mr. Ashish Ranjan\n",
        "• Designed 'Swap CO2' supply chain, incentivizing vehicles to empty CO2 tanks, capturing more CO2 and reducing the carbon emissions\n",
        "• Developed a proposal for CO2 extraction, estimating a selling price for pure stored CO2 to be 76% cheaper than prevailing industry costs\n",
        "Product Challenge | PM School\n",
        "• Ranked in top 10 twice in 2 PM schools’ weekly Product Challenges highlighting a well-rounded skill set of product sense and analysis\n",
        "• Secured exceptional 80% average evaluation, evaluated on analytical abilities, Metrics, Structure, Go-to-Market, and PPT Design skills\n",
        "• Expertly crafted user-centric PPTs, utilizing the RICE framework for solution prioritization and showing effective go-to-market strategies\n",
        "General Secretary Sports and Games Coordinator | MMM Hall of Residence Aug‘22 - May’23\n",
        "• Estimated and proposed a budget of INR 8,35,540 for executing sports events and procuring equipment for the academic year 2022-23\n",
        "• Headed 12-member team to plan and execute 7+ events for 2000+ boarders of hall with adept scheduling and fostering successful output\n",
        "• Spearheaded construction of 3 cemented courts in hall; involving planning, designing, drafting proposals, obtaining multiple quotations\n",
        "• Attained a 75% improvement in hall gym with an average rating of 4.5 out of 5, showcasing the capacity to implement effective solutions\n",
        "Secretary Volleyball and Basketball | MMM Hall of Residence Feb’22 - Apr’22\n",
        "• Effectively assessed sports budget of INR 8,20,000, in improving old inventory and conducting sports events for academic year 2021-22\n",
        "• Planned, directed and devised innovative solutions for 5+ Intra Hall events, effectively engaging 1500+ boarders, with positive feedback\n",
        "• Initiated renovation of 3+ unused grounds of hall, creating and presenting convincing proposals and coordinating with the contractors\n",
        "• Orchestrated Interhall Gymkhana participation in hall, revamped logistics, and resolved issues through continuous feedback from team\n",
        "Product management: Product Strategy |User Research |Tracking Product Adoption |Product Documentation |Market Research &Analysis\n",
        "|Requirements gathering |Agile Methodologies |Googling |Funnel Conversions |Prototyping - Figma | Software Development LifeCycle\n",
        "Softwares/Languages: HTML |SQL |Jira |Clickup |Asana |Figma |Balsamiq |Github |Notion |Slack |Vs-code |Canva |PowerBI |Latex\n",
        "Frameworks/other: UI/UX |RICE |AARRR |HEART |Agile |Scrum |Kanban |Business model Canvas |SWOT |SMART |STAR |MVP |POP\n",
        "• Cultural: Actively lead a team of 80+ people along with 20+ members in constructing the Silver-winning Illumination 2022 of MMM Hall\n",
        "• Events: Vice-captained and actively contributed to Volleyball and Athletics team of MMM Hall of Residence during Inter Hall Events '22\n",
        "• Sports: Actively participated in all the activities conducted by the Health and Fitness program under the NSO Scheme at IIT Kharagpur\n",
        "• Webinar: Attended webinar by Google's Sr. Product Manager, Abhishek Jain, on Product Management methodologies hosted by Unstop\n",
        "• Community: Participated in Run for Unity event on National Unity Day commemorating the birth anniversary of Sardar Vallabhbhai Patel\n",
        "Academic: Probability and Statistics|Programming & Data Structures|Artificial Intelligence: Foundations & Applications|Advanced Calculu|\"\"\""
      ],
      "metadata": {
        "id": "wSTIOJfImU6B"
      },
      "execution_count": null,
      "outputs": []
    },
    {
      "cell_type": "code",
      "source": [
        "import pickle\n",
        "\n",
        "#Load the trained classifier\n",
        "clf = pickle.load(open('clf.pkl', 'rb'))\n",
        "\n",
        "#clean the input resume\n",
        "cleaned_resume = cleanResume(myResume)\n",
        "\n",
        "input_features = tfidf.transform([cleaned_resume])\n",
        "\n",
        "prediction_id = clf.predict(input_features)[0]\n",
        "\n",
        "category_mapping = {\n",
        "    15: \"Java Developer\",\n",
        "    23: \"Testing\",\n",
        "    8: \"DevOps Engineer\",\n",
        "    20: \"Python Developer\",\n",
        "    24: \"Web Designing\",\n",
        "    12: \"HR\",\n",
        "    13: \"Hadoop\",\n",
        "    3: \"Blockchain\",\n",
        "    10: \"ETL Developer\",\n",
        "    18: \"Operations Manager\",\n",
        "    6: \"Data Science\",\n",
        "    22: \"Sales\",\n",
        "    16: \"Mechanical Engineer\",\n",
        "    1: \"Arts\",\n",
        "    7: \"Database\",\n",
        "    11: \"Electrical Engineering\",\n",
        "    14: \"Health and fitness\",\n",
        "    19: \"PMO\",\n",
        "    4: \"Business Analyst\",\n",
        "    9: \"DotNet Developer\",\n",
        "    2: \"Automation Testing\",\n",
        "    17: \"Network Security Engineer\",\n",
        "    21: \"SAP Developer\",\n",
        "    5: \"Civil Engineer\",\n",
        "    0: \"Advocate\",\n",
        "}\n",
        "\n",
        "category_name = category_mapping.get(prediction_id, \"Unknown\")\n",
        "\n",
        "print(\"Predicted Category:\", category_name)\n",
        "\n",
        "print(prediction_id)"
      ],
      "metadata": {
        "colab": {
          "base_uri": "https://localhost:8080/"
        },
        "id": "wPx1fHnjkW-o",
        "outputId": "d92fa18c-5c22-4819-c355-98ddb85a0dbb"
      },
      "execution_count": null,
      "outputs": [
        {
          "output_type": "stream",
          "name": "stdout",
          "text": [
            "Predicted Category: Business Analyst\n",
            "4\n"
          ]
        }
      ]
    },
    {
      "cell_type": "code",
      "source": [],
      "metadata": {
        "id": "lrHSQIgsqVLU"
      },
      "execution_count": null,
      "outputs": []
    }
  ]
}